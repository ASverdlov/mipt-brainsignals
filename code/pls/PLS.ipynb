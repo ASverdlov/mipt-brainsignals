{
 "cells": [
  {
   "cell_type": "markdown",
   "metadata": {},
   "source": [
    "<a href=https://github.com/scikit-learn/scikit-learn/blob/a24c8b46/sklearn/cross_decomposition/pls_.py#L455> Код из sklearn </a>"
   ]
  },
  {
   "cell_type": "code",
   "execution_count": 1,
   "metadata": {},
   "outputs": [
    {
     "name": "stdout",
     "output_type": "stream",
     "text": [
      "--2018-03-24 11:59:31--  https://raw.githubusercontent.com/scikit-learn/scikit-learn/a24c8b464d094d2c468a16ea9f8bf8d42d949f84/sklearn/cross_decomposition/pls_.py\n",
      "Распознаётся raw.githubusercontent.com (raw.githubusercontent.com)... 151.101.36.133\n",
      "Подключение к raw.githubusercontent.com (raw.githubusercontent.com)|151.101.36.133|:443... соединение установлено.\n",
      "HTTP-запрос отправлен. Ожидание ответа... 200 OK\n",
      "Длина: 31164 (30K) [text/plain]\n",
      "Сохранение в каталог: ««pls_.py»».\n",
      "\n",
      "pls_.py             100%[===================>]  30,43K  --.-KB/s    in 0,06s   \n",
      "\n",
      "2018-03-24 11:59:31 (510 KB/s) - «pls_.py» сохранён [31164/31164]\n",
      "\n"
     ]
    }
   ],
   "source": [
    "! wget https://raw.githubusercontent.com/scikit-learn/scikit-learn/a24c8b464d094d2c468a16ea9f8bf8d42d949f84/sklearn/cross_decomposition/pls_.py"
   ]
  },
  {
   "cell_type": "code",
   "execution_count": null,
   "metadata": {
    "collapsed": true
   },
   "outputs": [],
   "source": [
    "class PLS():\n",
    "    def __init__(self):\n",
    "        \n",
    "    def fit(X, Y):\n",
    "        \n",
    "    def transform(X, Y)"
   ]
  },
  {
   "cell_type": "markdown",
   "metadata": {},
   "source": [
    "## Тестирование PLS"
   ]
  },
  {
   "cell_type": "code",
   "execution_count": 3,
   "metadata": {},
   "outputs": [],
   "source": [
    "import pls_"
   ]
  },
  {
   "cell_type": "code",
   "execution_count": 4,
   "metadata": {},
   "outputs": [
    {
     "data": {
      "text/plain": [
       "PLSRegression(copy=True, max_iter=500, n_components=2, scale=True, tol=1e-06)"
      ]
     },
     "execution_count": 4,
     "metadata": {},
     "output_type": "execute_result"
    }
   ],
   "source": [
    "pls_.PLSRegression()"
   ]
  },
  {
   "cell_type": "code",
   "execution_count": null,
   "metadata": {
    "collapsed": true
   },
   "outputs": [],
   "source": []
  }
 ],
 "metadata": {
  "kernelspec": {
   "display_name": "Python 3",
   "language": "python",
   "name": "python3"
  },
  "language_info": {
   "codemirror_mode": {
    "name": "ipython",
    "version": 3
   },
   "file_extension": ".py",
   "mimetype": "text/x-python",
   "name": "python",
   "nbconvert_exporter": "python",
   "pygments_lexer": "ipython3",
   "version": "3.6.3"
  }
 },
 "nbformat": 4,
 "nbformat_minor": 2
}
