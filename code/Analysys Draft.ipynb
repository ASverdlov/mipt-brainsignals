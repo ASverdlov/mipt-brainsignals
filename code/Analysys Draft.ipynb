{
 "cells": [
  {
   "cell_type": "code",
   "execution_count": 1,
   "metadata": {
    "collapsed": false,
    "deletable": true,
    "editable": true
   },
   "outputs": [
    {
     "name": "stdout",
     "output_type": "stream",
     "text": [
      "<function condition_number_xtx at 0x7fb0600d9048>\n"
     ]
    }
   ],
   "source": [
    "from metrics import *\n",
    "from bootstrap import *\n",
    "from metric_classes import *"
   ]
  },
  {
   "cell_type": "code",
   "execution_count": 2,
   "metadata": {
    "collapsed": false
   },
   "outputs": [
    {
     "data": {
      "text/plain": [
       "\"Mallow's Cp\""
      ]
     },
     "execution_count": 2,
     "metadata": {},
     "output_type": "execute_result"
    }
   ],
   "source": [
    "str(Cp())"
   ]
  },
  {
   "cell_type": "code",
   "execution_count": 3,
   "metadata": {
    "collapsed": false,
    "deletable": true,
    "editable": true
   },
   "outputs": [],
   "source": [
    "c = Condition_Number()\n",
    "#c.evaluate(model)"
   ]
  },
  {
   "cell_type": "code",
   "execution_count": 134,
   "metadata": {
    "collapsed": false,
    "deletable": true,
    "editable": true
   },
   "outputs": [],
   "source": [
    "class EvaluateInfo():\n",
    "    def __init__(self, model, metrics = [], comparisons = [], characteristics = []):\n",
    "        self.model = model\n",
    "        self.characteristics = characteristics # characteristic of the fitted model itself\n",
    "        self.metrics = metrics # compares y and y_pred\n",
    "        self.comparisons = comparisons #compares y, y_pred, y_pred_with_reduced_features\n",
    "        \n",
    "        all_names = [str(el) for el in metrics] +\\\n",
    "                     [str(el) for el in comparisons] +\\\n",
    "                     [str(el) for el in characteristics]\n",
    "        \n",
    "        self.names = dict(zip(all_names, [i for i in range(len(all_names))]))\n",
    "        print(self.names)\n",
    "        \n",
    "    def _calcQuality(self):     \n",
    "        model = self.model\n",
    "        for (m, mask) in enumerate(self.masks):\n",
    "            reduced_X_test = self.X_test[:, mask]\n",
    "            model.fit(self.X_train.T[mask].T, self.y_train)\n",
    "            for (i, metric) in enumerate(self.metrics):\n",
    "                self.quality[i][m] = metric.evaluate(model, reduced_X_test, self.y_test)\n",
    "\n",
    "            for (i, comp) in enumerate(self.comparisons):\n",
    "                ind = i + len(self.metrics)\n",
    "                self.quality[ind][m] = comp.evaluate(self.full, model, self.X_test,\n",
    "                                                                 reduced_X_test, self.y_test)\n",
    "            for (i, char) in enumerate(self.characteristics):\n",
    "                ind = i + len(self.metrics) + len(self.comparisons)\n",
    "                self.quality[ind][m] = char.evaluate(model)\n",
    "        \n",
    "    def fit(self, X_train, y_train, X_test, y_test, masks = None, n_samples=20, len_sample=None):\n",
    "        if masks is None:\n",
    "            masks = np.ones((1, X.shape[1]), dtype=bool)\n",
    "        masks = np.array(masks, dtype=bool)\n",
    "        if len(masks.shape) == 1:\n",
    "            masks = masks.reshape((1, len(masks.shape)))\n",
    "        self.masks = masks\n",
    "        \n",
    "        if len_sample is None:\n",
    "            len_sample = X_train.shape[1]\n",
    "        self.len_sample = len_sample\n",
    "        \n",
    "        self.n_samples = n_samples\n",
    "\n",
    "        self.X_train = X_train\n",
    "        self.y_train = y_train\n",
    "\n",
    "        self.X_test = X_test\n",
    "        self.y_test = y_test\n",
    "        \n",
    "        self.full = deepcopy(self.model.fit(self.X_train, self.y_train))\n",
    "        \n",
    "        self.result = np.zeros((len(self.metrics) + len(self.comparisons) \n",
    "                                + len(self.characteristics), len(self.masks), self.n_samples))\n",
    "        \n",
    "        self.quality = np.zeros((len(self.metrics) + len(self.comparisons) \n",
    "                                + len(self.characteristics), len(self.masks)))\n",
    "        self._calcQuality()\n",
    "        \n",
    "    \n",
    "    \n",
    "    def get_quality(self):\n",
    "        return self.quality\n",
    "    \n",
    "    def get_result(self):\n",
    "        return self.result\n",
    "    \n",
    "    def _by_name(self, name, array):\n",
    "        if name in self.names:\n",
    "            return array[self.names[name]]\n",
    "        else:\n",
    "            raise NameError('Invalid argument')\n",
    "        \n",
    "    def quality_by_name(self, name):\n",
    "        return self._by_name(name, self.quality)\n",
    "            \n",
    "    def result_by_name(self, name):\n",
    "        return self._by_name(name, self.result)\n",
    "            \n",
    "    "
   ]
  },
  {
   "cell_type": "code",
   "execution_count": 135,
   "metadata": {
    "collapsed": false,
    "deletable": true,
    "editable": true
   },
   "outputs": [],
   "source": [
    "from copy import deepcopy\n",
    "class EvaluateStaticInfo(EvaluateInfo):\n",
    "    def __init__(self, model, metrics = [], comparisons = []):\n",
    "        super(EvaluateStaticInfo, self).__init__(model, metrics, comparisons, [])\n",
    "    \n",
    "    def __eval(self):\n",
    "        model = self.model\n",
    "        \n",
    "        sample_X, sample_y = self.boot.values()\n",
    "        \n",
    "        self.models = []\n",
    "        for mask in self.masks:\n",
    "            self.models += [deepcopy(model.fit(self.X_train[:, mask], self.y_train))]\n",
    "        \n",
    "        for (m, mask) in enumerate(self.masks):\n",
    "            for it in range(self.n_samples):\n",
    "                reduced_X_cur = (sample_X[it].T[mask]).T\n",
    "                for (i, metric) in enumerate(self.metrics):\n",
    "                    self.result[i][m][it] = metric.evaluate(self.models[m], reduced_X_cur, sample_y[it])\n",
    "                for(i, comp) in enumerate(self.comparisons):\n",
    "                    ind = i + len(self.metrics)\n",
    "                    self.result[ind][m][it] = comp.evaluate(self.full, self.models[m], sample_X[it], \n",
    "                                                              reduced_X_cur, sample_y[it])\n",
    "\n",
    "    def fit(self, X_train, y_train, X_test, y_test, masks = None, n_samples=20, len_sample=None):\n",
    "        super(EvaluateStaticInfo, self).fit(X_train, y_train, X_test, y_test, masks, n_samples, len_sample)\n",
    "        self.boot = Bootstrap(self.X_test, self.y_test, self.n_samples, self.len_sample)\n",
    "        self.__eval()\n",
    "        "
   ]
  },
  {
   "cell_type": "code",
   "execution_count": 136,
   "metadata": {
    "collapsed": false,
    "deletable": true,
    "editable": true
   },
   "outputs": [],
   "source": [
    "from copy import deepcopy\n",
    "class EvaluateDynamicInfo(EvaluateInfo):\n",
    "    def __init__(self, model, metrics = [], comparisons = [], characteristics = []):\n",
    "        super(EvaluateDynamicInfo, self).__init__(model, metrics, comparisons, characteristics)\n",
    "    \n",
    "    def __eval(self):\n",
    "        model = self.model\n",
    "        \n",
    "        sample_X, sample_y = self.boot.values()\n",
    "            \n",
    "        for (m, mask) in enumerate(self.masks):\n",
    "            reduced_X_test = (self.X_test.T[mask]).T\n",
    "            for it in range(self.n_samples):\n",
    "                model.fit((sample_X[it].T[mask]).T, sample_y[it])\n",
    "                for (i, metric) in enumerate(self.metrics):\n",
    "                    self.result[i][m][it] = metric.evaluate(model, reduced_X_test, self.y_test)\n",
    "\n",
    "                for (i, char) in enumerate(self.characteristics):\n",
    "                    ind = i + len(self.metrics)\n",
    "                    self.result[ind][m][it] = char.evaluate(model)\n",
    "\n",
    "                for (i, comp) in enumerate(self.comparisons):\n",
    "                    ind = i + len(self.metrics) + len(self.comparisons)\n",
    "                    self.result[ind][m][it] = comp.evaluate(self.full, model, self.X_test,\n",
    "                                                              reduced_X_test, self.y_test)\n",
    "                \n",
    "\n",
    "    def fit(self, X_train, y_train, X_test, y_test, masks = None, n_samples=20, len_sample=None):\n",
    "        super(EvaluateDynamicInfo, self).fit(X_train, y_train, X_test, y_test, masks, n_samples, len_sample)\n",
    "        self.boot = Bootstrap(self.X_test, self.y_test, self.n_samples, self.len_sample)\n",
    "        self.__eval()\n",
    "    "
   ]
  },
  {
   "cell_type": "code",
   "execution_count": 137,
   "metadata": {
    "collapsed": true,
    "deletable": true,
    "editable": true
   },
   "outputs": [],
   "source": [
    "from sklearn.linear_model import LinearRegression\n",
    "mo = LinearRegression()"
   ]
  },
  {
   "cell_type": "code",
   "execution_count": 138,
   "metadata": {
    "collapsed": false,
    "deletable": true,
    "editable": true
   },
   "outputs": [
    {
     "name": "stdout",
     "output_type": "stream",
     "text": [
      "[ 1.  0.  0.  0.  1.]\n"
     ]
    }
   ],
   "source": [
    "import scipy.stats as sps\n",
    "\n",
    "XX = sps.norm.rvs(size=(10, 5))\n",
    "X2 = sps.norm.rvs(size=(10, 5))\n",
    "zz = sps.uniform.rvs(size=(5, 3))\n",
    "yy = XX @ zz + sps.norm.rvs(scale=0.1, size=(10, 3))\n",
    "y2 = X2 @ zz + sps.norm.rvs(scale=0.1, size=(10, 3))\n",
    "maskk = np.ones(XX.shape[1])\n",
    "maskk[2]=0\n",
    "maskk[1] = 0\n",
    "maskk[3] = 0\n",
    "print(maskk)"
   ]
  },
  {
   "cell_type": "code",
   "execution_count": 139,
   "metadata": {
    "collapsed": false,
    "deletable": true,
    "editable": true
   },
   "outputs": [],
   "source": [
    "metric1 = RSS()\n",
    "metric2 = Adjusted_Determination_Coefficient()\n",
    "metric3 = Determination_Coefficient()\n",
    "metric4 = VIF()\n",
    "metric5 = BIC()\n",
    "char1 = Condition_Number()\n",
    "comp1 = Cp()"
   ]
  },
  {
   "cell_type": "code",
   "execution_count": 140,
   "metadata": {
    "collapsed": false,
    "deletable": true,
    "editable": true
   },
   "outputs": [
    {
     "name": "stdout",
     "output_type": "stream",
     "text": [
      "{\"Mallow's Cp\": 5, 'RSS': 0, 'Adj Det Coef': 1, 'BIC': 4, 'Det Coef': 2, 'VIF': 3}\n"
     ]
    }
   ],
   "source": [
    "info = EvaluateStaticInfo(mo, [metric1, metric2, metric3, metric4, metric5],\n",
    "                           [comp1])#, [char1])"
   ]
  },
  {
   "cell_type": "code",
   "execution_count": 141,
   "metadata": {
    "collapsed": false,
    "deletable": true,
    "editable": true
   },
   "outputs": [],
   "source": [
    "info.fit(XX, yy, X2, y2, masks=[np.ones(len(XX.T)), maskk])"
   ]
  },
  {
   "cell_type": "code",
   "execution_count": 142,
   "metadata": {
    "collapsed": false,
    "deletable": true,
    "editable": true
   },
   "outputs": [
    {
     "data": {
      "text/plain": [
       "array([[[  3.65303065e-01,   3.77542158e-01,   3.52642787e-01,\n",
       "           4.44717293e-01,   3.40370354e-01,   4.08389367e-01,\n",
       "           1.83898028e-01,   4.93958860e-01,   3.63469425e-01,\n",
       "           4.18486901e-01,   3.21148288e-01,   2.12781777e-01,\n",
       "           2.35032818e-01,   2.74819525e-01,   3.95773627e-01,\n",
       "           4.86553596e-01,   2.55655849e-01,   4.35944837e-01,\n",
       "           2.87268764e-01,   1.52029244e-01],\n",
       "        [  5.72833926e+01,   5.04199209e+01,   3.81887928e+01,\n",
       "           1.92035744e+01,   5.71282509e+01,   1.90567553e+01,\n",
       "           1.90812871e+01,   6.62374156e+01,   7.59825121e+01,\n",
       "           6.60007665e+01,   5.32848852e+01,   1.07863106e+01,\n",
       "           9.50734507e+01,   2.29862751e+01,   5.42838099e+01,\n",
       "           6.33042007e+01,   6.40912622e+01,   7.58829725e+01,\n",
       "           5.98565568e+01,   6.29992975e+01]],\n",
       "\n",
       "       [[  9.76804989e-01,   9.90541356e-01,   9.76662453e-01,\n",
       "           9.80653888e-01,   9.89739241e-01,   9.68311673e-01,\n",
       "           9.77947679e-01,   9.85064049e-01,   9.95976008e-01,\n",
       "           9.88048562e-01,   9.90642973e-01,   9.94864443e-01,\n",
       "           9.92915580e-01,   9.88195815e-01,   9.88516452e-01,\n",
       "           9.93638952e-01,   9.86257677e-01,   9.95013461e-01,\n",
       "           9.96095137e-01,   9.94525608e-01],\n",
       "        [ -2.63722356e+00,  -2.63181025e-01,  -1.52729615e+00,\n",
       "           1.64605240e-01,  -7.22180589e-01,  -4.78678778e-01,\n",
       "          -1.28815214e+00,  -1.00283643e+00,   1.58793036e-01,\n",
       "          -8.84895472e-01,  -5.52516796e-01,   7.39668918e-01,\n",
       "          -1.86572857e+00,   1.26820345e-02,  -5.75068848e-01,\n",
       "           1.72380857e-01,  -2.44511130e+00,   1.32015332e-01,\n",
       "           1.86365885e-01,  -1.26852982e+00]],\n",
       "\n",
       "       [[  9.53609978e-01,   9.81082712e-01,   9.53324905e-01,\n",
       "           9.61307776e-01,   9.79478482e-01,   9.36623346e-01,\n",
       "           9.55895358e-01,   9.70128098e-01,   9.91952016e-01,\n",
       "           9.76097124e-01,   9.81285946e-01,   9.89728887e-01,\n",
       "           9.85831160e-01,   9.76391629e-01,   9.77032905e-01,\n",
       "           9.87277904e-01,   9.72515353e-01,   9.90026921e-01,\n",
       "           9.92190274e-01,   9.89051215e-01],\n",
       "        [ -6.27444711e+00,  -1.52636205e+00,  -4.05459229e+00,\n",
       "          -6.70789520e-01,  -2.44436118e+00,  -1.95735756e+00,\n",
       "          -3.57630429e+00,  -3.00567285e+00,  -6.82413928e-01,\n",
       "          -2.76979094e+00,  -2.10503359e+00,   4.79337837e-01,\n",
       "          -4.73145714e+00,  -9.74635931e-01,  -2.15013770e+00,\n",
       "          -6.55238285e-01,  -5.89022260e+00,  -7.35969335e-01,\n",
       "          -6.27268230e-01,  -3.53705965e+00]],\n",
       "\n",
       "       [[  4.31127196e+01,   1.05723398e+02,   4.28494044e+01,\n",
       "           5.16899733e+01,   9.74586769e+01,   3.15573619e+01,\n",
       "           4.53467009e+01,   6.69525494e+01,   2.48509448e+02,\n",
       "           8.36719402e+01,   1.06871552e+02,   1.94720855e+02,\n",
       "           1.41154815e+02,   8.47157141e+01,   8.70811044e+01,\n",
       "           1.57206796e+02,   7.27678988e+01,   2.00539876e+02,\n",
       "           2.56090917e+02,   1.82668675e+02],\n",
       "        [  2.74934984e-01,   7.91652170e-01,   3.95679787e-01,\n",
       "           1.19703887e+00,   5.80659198e-01,   6.76279402e-01,\n",
       "           4.37033876e-01,   4.99291898e-01,   1.18876810e+00,\n",
       "           5.30533398e-01,   6.44115415e-01,   3.84126242e+00,\n",
       "           3.48951401e-01,   1.01284493e+00,   6.34892882e-01,\n",
       "           1.20828525e+00,   2.90266384e-01,   1.15209408e+00,\n",
       "           1.22905368e+00,   4.40814130e-01]],\n",
       "\n",
       "       [[  8.41249263e+00,   8.42473172e+00,   8.39983235e+00,\n",
       "           8.49190686e+00,   8.38755992e+00,   8.45557893e+00,\n",
       "           8.23108759e+00,   8.54114842e+00,   8.41065899e+00,\n",
       "           8.46567646e+00,   8.36833785e+00,   8.25997134e+00,\n",
       "           8.28222238e+00,   8.32200909e+00,   8.44296319e+00,\n",
       "           8.53374316e+00,   8.30284541e+00,   8.48313440e+00,\n",
       "           8.33445833e+00,   8.19921881e+00],\n",
       "        [  6.05022684e+01,   5.36387967e+01,   4.14076687e+01,\n",
       "           2.24224502e+01,   6.03471267e+01,   2.22756311e+01,\n",
       "           2.23001629e+01,   6.94562915e+01,   7.92013879e+01,\n",
       "           6.92196424e+01,   5.65037610e+01,   1.40051864e+01,\n",
       "           9.82923266e+01,   2.62051509e+01,   5.75026857e+01,\n",
       "           6.65230765e+01,   6.73101380e+01,   7.91018483e+01,\n",
       "           6.30754327e+01,   6.62181734e+01]],\n",
       "\n",
       "       [[  6.00000000e+00,   6.00000000e+00,   6.00000000e+00,\n",
       "           6.00000000e+00,   6.00000000e+00,   6.00000000e+00,\n",
       "           6.00000000e+00,   6.00000000e+00,   6.00000000e+00,\n",
       "           6.00000000e+00,   6.00000000e+00,   6.00000000e+00,\n",
       "           6.00000000e+00,   6.00000000e+00,   6.00000000e+00,\n",
       "           6.00000000e+00,   6.00000000e+00,   6.00000000e+00,\n",
       "           6.00000000e+00,   6.00000000e+00],\n",
       "        [  1.55810599e+02,   1.32547790e+02,   1.07293135e+02,\n",
       "           4.21815328e+01,   1.66841442e+02,   4.56632014e+01,\n",
       "           1.02760151e+02,   1.33095005e+02,   2.08047878e+02,\n",
       "           1.56712861e+02,   1.64919879e+02,   4.96918908e+01,\n",
       "           4.03511385e+02,   8.26413465e+01,   1.36158735e+02,\n",
       "           1.29107353e+02,   2.49693510e+02,   1.73065538e+02,\n",
       "           2.07364306e+02,   4.13389336e+02]]])"
      ]
     },
     "execution_count": 142,
     "metadata": {},
     "output_type": "execute_result"
    }
   ],
   "source": [
    "info.get_result()"
   ]
  },
  {
   "cell_type": "code",
   "execution_count": 143,
   "metadata": {
    "collapsed": false,
    "deletable": true,
    "editable": true
   },
   "outputs": [
    {
     "data": {
      "text/plain": [
       "array([[   0.66515697,  100.08175463],\n",
       "       [   0.99034927,   -0.45208135],\n",
       "       [   0.98759192,   -0.86696173],\n",
       "       [ 103.61910017,    0.68866665],\n",
       "       [  12.17808244,  104.68692482],\n",
       "       [   1.        ,  144.46336265]])"
      ]
     },
     "execution_count": 143,
     "metadata": {},
     "output_type": "execute_result"
    }
   ],
   "source": [
    "info.get_quality()"
   ]
  },
  {
   "cell_type": "code",
   "execution_count": 148,
   "metadata": {
    "collapsed": false
   },
   "outputs": [
    {
     "data": {
      "text/plain": [
       "array([[   6.        ,    6.        ,    6.        ,    6.        ,\n",
       "           6.        ,    6.        ,    6.        ,    6.        ,\n",
       "           6.        ,    6.        ,    6.        ,    6.        ,\n",
       "           6.        ,    6.        ,    6.        ,    6.        ,\n",
       "           6.        ,    6.        ,    6.        ,    6.        ],\n",
       "       [ 155.81059944,  132.54779017,  107.29313458,   42.18153282,\n",
       "         166.84144154,   45.66320137,  102.76015075,  133.09500471,\n",
       "         208.04787815,  156.71286134,  164.91987934,   49.69189076,\n",
       "         403.51138492,   82.64134646,  136.15873478,  129.10735342,\n",
       "         249.69351024,  173.06553769,  207.36430647,  413.38933631]])"
      ]
     },
     "execution_count": 148,
     "metadata": {},
     "output_type": "execute_result"
    }
   ],
   "source": [
    "info.result_by_name(\"Mallow's Cp\")"
   ]
  },
  {
   "cell_type": "code",
   "execution_count": null,
   "metadata": {
    "collapsed": true
   },
   "outputs": [],
   "source": []
  },
  {
   "cell_type": "code",
   "execution_count": null,
   "metadata": {
    "collapsed": true
   },
   "outputs": [],
   "source": []
  },
  {
   "cell_type": "code",
   "execution_count": null,
   "metadata": {
    "collapsed": true
   },
   "outputs": [],
   "source": []
  }
 ],
 "metadata": {
  "kernelspec": {
   "display_name": "Python 3",
   "language": "python",
   "name": "python3"
  },
  "language_info": {
   "codemirror_mode": {
    "name": "ipython",
    "version": 3
   },
   "file_extension": ".py",
   "mimetype": "text/x-python",
   "name": "python",
   "nbconvert_exporter": "python",
   "pygments_lexer": "ipython3",
   "version": "3.5.3"
  }
 },
 "nbformat": 4,
 "nbformat_minor": 2
}
