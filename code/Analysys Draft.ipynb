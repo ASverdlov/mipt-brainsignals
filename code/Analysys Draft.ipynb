{
 "cells": [
  {
   "cell_type": "code",
   "execution_count": 1,
   "metadata": {
    "collapsed": false
   },
   "outputs": [],
   "source": [
    "%run \"./metrics/metrics\""
   ]
  },
  {
   "cell_type": "code",
   "execution_count": 2,
   "metadata": {
    "collapsed": true,
    "deletable": true,
    "editable": true
   },
   "outputs": [],
   "source": [
    "import numpy as np\n",
    "\n",
    "class Bootstrap():\n",
    "    def __init__(self, X, y, n_samples, len_sample):\n",
    "        self.n_samples = n_samples\n",
    "        self.len_sample = len_sample\n",
    "        self.X = np.array(X)\n",
    "        self.y = np.array(y)\n",
    "        self.sample_X = np.zeros((n_samples, len_sample, self.X.shape[1]))\n",
    "        self.sample_y = np.zeros((n_samples, len_sample, self.y.shape[1]))\n",
    "        for i in range(n_samples):\n",
    "            idx = np.random.choice(np.arange(len(X)), len_sample, replace=True)\n",
    "            self.sample_X[i] = self.X[idx]\n",
    "            self.sample_y[i] = self.y[idx]\n",
    "        #print('a', *self.sample_X)\n",
    "        #print('b', *self.sample_y)\n",
    "    \n",
    "    def values(self):\n",
    "        return self.sample_X, self.sample_y\n",
    "        \n"
   ]
  },
  {
   "cell_type": "code",
   "execution_count": 309,
   "metadata": {
    "collapsed": false,
    "deletable": true,
    "editable": true
   },
   "outputs": [],
   "source": [
    "X = [[1, 2], [3, 4], [5, 6]]\n",
    "b = Bootstrap(X, X, 5, 3)\n"
   ]
  },
  {
   "cell_type": "code",
   "execution_count": 636,
   "metadata": {
    "collapsed": true,
    "deletable": true,
    "editable": true
   },
   "outputs": [],
   "source": [
    "class Model():\n",
    "    def __init__(self):\n",
    "        pass\n",
    "    def fit(self, X, y):\n",
    "        pass\n",
    "    def predict(self, X):\n",
    "        pass\n",
    "    def predict_params(self, X):\n",
    "        pass\n",
    "        "
   ]
  },
  {
   "cell_type": "code",
   "execution_count": 3,
   "metadata": {
    "collapsed": true
   },
   "outputs": [],
   "source": [
    "%run \"./metrics/metrics\""
   ]
  },
  {
   "cell_type": "code",
   "execution_count": 4,
   "metadata": {
    "collapsed": true
   },
   "outputs": [],
   "source": [
    "class FunctionEvaluator():\n",
    "    def __init__(self, func=None):\n",
    "        if func == None:\n",
    "            self.function = lambda a, b: 0\n",
    "        else:\n",
    "            self.function = func"
   ]
  },
  {
   "cell_type": "code",
   "execution_count": 5,
   "metadata": {
    "collapsed": false,
    "deletable": true,
    "editable": true
   },
   "outputs": [],
   "source": [
    "class Metric(FunctionEvaluator):\n",
    "    def evaluate(self, model, X, y):\n",
    "        z = self.function(y, model.predict(X))\n",
    "        return z\n",
    "    "
   ]
  },
  {
   "cell_type": "code",
   "execution_count": 6,
   "metadata": {
    "collapsed": true
   },
   "outputs": [],
   "source": [
    "class Characteristic(FunctionEvaluator):\n",
    "    def evaluate(self, model):\n",
    "        pass\n",
    "    "
   ]
  },
  {
   "cell_type": "code",
   "execution_count": 7,
   "metadata": {
    "collapsed": true
   },
   "outputs": [],
   "source": [
    "class Comparison(FunctionEvaluator):\n",
    "    def evaluate(self, full_model, model, full_X, y, mask):\n",
    "        pass"
   ]
  },
  {
   "cell_type": "code",
   "execution_count": 8,
   "metadata": {
    "collapsed": true
   },
   "outputs": [],
   "source": [
    "class RSS(Metric):\n",
    "    def __init__(self):\n",
    "        super(RSS, self).__init__(residual_square_sum)"
   ]
  },
  {
   "cell_type": "code",
   "execution_count": 9,
   "metadata": {
    "collapsed": false
   },
   "outputs": [],
   "source": [
    "class Adjusted_Determination_Coefficient(Metric):\n",
    "    def __init__(self):\n",
    "        super(Adjusted_Determination_Coefficient, self).__init__(determination_coefficient)\n",
    "        \n",
    "class Determination_Coefficient(Metric):\n",
    "    def __init__(self):\n",
    "        super(Determination_Coefficient, self).__init__(determination_coefficient)\n",
    "    def evaluate(self, model, X, y):\n",
    "        z = self.function(y, model.predict(X), False)\n",
    "        #print(\"Z\", z)\n",
    "        return z"
   ]
  },
  {
   "cell_type": "code",
   "execution_count": 10,
   "metadata": {
    "collapsed": true
   },
   "outputs": [],
   "source": [
    "class VIF(Metric):\n",
    "    def __init__(self):\n",
    "        super(VIF, self).__init__(variance_inflation_factor)"
   ]
  },
  {
   "cell_type": "code",
   "execution_count": 11,
   "metadata": {
    "collapsed": true
   },
   "outputs": [],
   "source": [
    "class BIC(Metric):\n",
    "    def __init__(self):\n",
    "        super(BIC, self).__init__(bayesian_information_criterion)\n",
    "    def evaluate(self, model, X, y):\n",
    "        num_features = X.shape[1]\n",
    "        z = self.function(y, model.predict(X), num_features)\n",
    "        #print(\"Z\", z)\n",
    "        return z"
   ]
  },
  {
   "cell_type": "code",
   "execution_count": 42,
   "metadata": {
    "collapsed": false
   },
   "outputs": [],
   "source": [
    "class Cp(Comparison):\n",
    "    def __init__(self):\n",
    "        super(Cp, self).__init__(mallows_Cp)\n",
    "    def evaluate(self, full_model, model, full_X, reduced_X, y):\n",
    "        y_full = full_model.predict(full_X)\n",
    "        y_p = model.predict(reduced_X)\n",
    "        p = reduced_X.shape[1]\n",
    "        z = self.function(y, y_full, y_p, p)\n",
    "        #print(*mask)\n",
    "        #print(*full_model.coef_)\n",
    "        #print(*model.coef_)\n",
    "        #print(\"A\", y_full, y_p, z)\n",
    "        return z\n",
    "        \n",
    "        "
   ]
  },
  {
   "cell_type": "code",
   "execution_count": 43,
   "metadata": {
    "collapsed": true
   },
   "outputs": [],
   "source": [
    "class Condition_Number(Characteristic):\n",
    "    def __init__(self):\n",
    "        super(Condition_Number, self).__init__(condition_number_xtx)\n",
    "    def evaluate(self, model):\n",
    "        X = model.coef_\n",
    "        return self.function(X)"
   ]
  },
  {
   "cell_type": "code",
   "execution_count": 44,
   "metadata": {
    "collapsed": false
   },
   "outputs": [
    {
     "ename": "NameError",
     "evalue": "name 'model' is not defined",
     "output_type": "error",
     "traceback": [
      "\u001b[0;31m---------------------------------------------------------------------------\u001b[0m",
      "\u001b[0;31mNameError\u001b[0m                                 Traceback (most recent call last)",
      "\u001b[0;32m<ipython-input-44-5466285ad8ab>\u001b[0m in \u001b[0;36m<module>\u001b[0;34m()\u001b[0m\n\u001b[1;32m      1\u001b[0m \u001b[0mc\u001b[0m \u001b[0;34m=\u001b[0m \u001b[0mCondition_Number\u001b[0m\u001b[0;34m(\u001b[0m\u001b[0;34m)\u001b[0m\u001b[0;34m\u001b[0m\u001b[0m\n\u001b[0;32m----> 2\u001b[0;31m \u001b[0mc\u001b[0m\u001b[0;34m.\u001b[0m\u001b[0mevaluate\u001b[0m\u001b[0;34m(\u001b[0m\u001b[0mmodel\u001b[0m\u001b[0;34m)\u001b[0m\u001b[0;34m\u001b[0m\u001b[0m\n\u001b[0m",
      "\u001b[0;31mNameError\u001b[0m: name 'model' is not defined"
     ]
    }
   ],
   "source": [
    "c = Condition_Number()\n",
    "c.evaluate(model)"
   ]
  },
  {
   "cell_type": "code",
   "execution_count": 45,
   "metadata": {
    "collapsed": false
   },
   "outputs": [],
   "source": [
    "class EvaluateInfo():\n",
    "    def __init__(self, model, metrics = [], characteristics = [], comparisons = []):\n",
    "        self.model = model\n",
    "        self.characteristics = characteristics # characteristic of the fitted model itself\n",
    "        self.metrics = metrics # compares y and y_pred\n",
    "        self.comparisons = comparisons #compares y, y_pred, y_pred_with_reduced_features\n",
    "        #self.mode = mode\n",
    "    \n",
    "    def fit(self, X_train, y_train, X_test, y_test, mask = None, n_samples=20, len_sample=None):\n",
    "        if mask is None:\n",
    "            mask = np.ones(X.shape[1], dtype=np.bool)\n",
    "        #print(\"MASK\", mask)\n",
    "        self.mask = np.array(mask, dtype=bool)\n",
    "        if len_sample is None:\n",
    "            len_sample = X_train.shape[1]\n",
    "        self.len_sample = len_sample\n",
    "        self.n_samples = n_samples\n",
    "\n",
    "        self.X_train = X_train\n",
    "        self.y_train = y_train\n",
    "\n",
    "        self.X_test = X_test\n",
    "        self.y_test = y_test\n",
    "        \n",
    "        self.full = deepcopy(self.model.fit(self.X_train, self.y_train))"
   ]
  },
  {
   "cell_type": "code",
   "execution_count": 77,
   "metadata": {
    "collapsed": false,
    "deletable": true,
    "editable": true
   },
   "outputs": [],
   "source": [
    "from copy import deepcopy\n",
    "class EvaluateStaticInfo(EvaluateInfo):\n",
    "    def __init__(self, model, metrics = [], comparisons = []):\n",
    "        super(EvaluateStaticInfo, self).__init__(model, metrics, [], comparisons)\n",
    "    \n",
    "    def __eval(self, b):\n",
    "        model = self.model\n",
    "        \n",
    "        sample_X, sample_y = b.values()\n",
    "        result_metrics = np.zeros((len(self.metrics), self.n_samples))\n",
    "        result_comparisons = np.zeros((len(self.comparisons), self.n_samples))\n",
    "        \n",
    "        model.fit((self.X_train.T[self.mask]).T, self.y_train)\n",
    "        \n",
    "        for it in range(self.n_samples):\n",
    "            reduced_X_cur = (sample_X[it].T[self.mask]).T\n",
    "            for (i, metric) in enumerate(self.metrics):\n",
    "                result_metrics[i][it] = metric.evaluate(model, reduced_X_cur, sample_y[it])\n",
    "            for(i, comp) in enumerate(self.comparisons):\n",
    "                result_comparisons[i][it] = comp.evaluate(self.full, model, sample_X[it], \n",
    "                                                          reduced_X_cur, sample_y[it])\n",
    "                \n",
    "        return result_metrics, result_comparisons\n",
    "\n",
    "    def fit(self, X_train, y_train, X_test, y_test, mask = None, n_samples=20, len_sample=None):\n",
    "        #self.b_train = Bootstrap(self.X_train, self.y_train, self.n_samples, self.len_sample)\n",
    "        super(EvaluateStaticInfo, self).fit(X_train, y_train, X_test, y_test, mask, n_samples, len_sample)\n",
    "        self.b = Bootstrap(self.X_test, self.y_test, self.n_samples, self.len_sample)\n",
    "        return (self.__eval(self.b))\n",
    "        "
   ]
  },
  {
   "cell_type": "code",
   "execution_count": 84,
   "metadata": {
    "collapsed": true
   },
   "outputs": [],
   "source": [
    "from copy import deepcopy\n",
    "class EvaluateDynamicInfo(EvaluateInfo):\n",
    "    def __init__(self, model, metrics = [], characteristics = [], comparisons = []):\n",
    "        super(EvaluateDynamicInfo, self).__init__(model, metrics, characteristics, comparisons)\n",
    "    \n",
    "    def __eval(self, b):\n",
    "        model = self.model\n",
    "        \n",
    "        sample_X, sample_y = b.values()\n",
    "        result_metrics = np.zeros((len(self.metrics), self.n_samples))\n",
    "        result_characteristics = np.zeros((len(self.characteristics), self.n_samples))\n",
    "        result_comparisons = np.zeros((len(self.comparisons), self.n_samples))\n",
    "        \n",
    "        model.fit((self.X_train.T[self.mask]).T, self.y_train)\n",
    "        \n",
    "        for it in range(self.n_samples):\n",
    "            model.fit((sample_X[it].T[self.mask]).T, sample_y[it])\n",
    "            for (i, metric) in enumerate(self.metrics):\n",
    "                result_metrics[i][it] = metric.evaluate(model, self.reduced_X_test, self.y_test)\n",
    "                \n",
    "            for (i, char) in enumerate(self.characteristics):\n",
    "                result_characteristics[i][it] = char.evaluate(model)\n",
    "                \n",
    "            for(i, comp) in enumerate(self.comparisons):\n",
    "                result_comparisons[i][it] = comp.evaluate(self.full, model, self.X_test,\n",
    "                                                          self.reduced_X_test, self.y_test)\n",
    "                \n",
    "        return result_metrics, result_characteristics, result_comparisons\n",
    "\n",
    "    def fit(self, X_train, y_train, X_test, y_test, mask = None, n_samples=20, len_sample=None):\n",
    "        #self.b_train = Bootstrap(self.X_train, self.y_train, self.n_samples, self.len_sample)\n",
    "        super(EvaluateDynamicInfo, self).fit(X_train, y_train, X_test, y_test, mask, n_samples, len_sample)\n",
    "        self.reduced_X_test = (self.X_test.T[self.mask]).T\n",
    "        self.b = Bootstrap(self.X_test, self.y_test, self.n_samples, self.len_sample)\n",
    "        return (self.__eval(self.b))"
   ]
  },
  {
   "cell_type": "code",
   "execution_count": 85,
   "metadata": {
    "collapsed": true,
    "deletable": true,
    "editable": true
   },
   "outputs": [],
   "source": [
    "from sklearn.linear_model import LinearRegression\n",
    "mo = LinearRegression()"
   ]
  },
  {
   "cell_type": "code",
   "execution_count": 86,
   "metadata": {
    "collapsed": false
   },
   "outputs": [
    {
     "name": "stdout",
     "output_type": "stream",
     "text": [
      "[ 1.  0.  0.  0.  1.]\n"
     ]
    }
   ],
   "source": [
    "import scipy.stats as sps\n",
    "\n",
    "XX = sps.norm.rvs(size=(10, 5))\n",
    "X2 = sps.norm.rvs(size=(10, 5))\n",
    "zz = sps.uniform.rvs(size=(5, 3))\n",
    "yy = XX @ zz + sps.norm.rvs(scale=0.1, size=(10, 3))\n",
    "y2 = X2 @ zz + sps.norm.rvs(scale=0.1, size=(10, 3))\n",
    "maskk = np.ones(XX.shape[1])\n",
    "maskk[2]=0\n",
    "maskk[1] = 0\n",
    "maskk[3] = 0\n",
    "print(maskk)"
   ]
  },
  {
   "cell_type": "code",
   "execution_count": 87,
   "metadata": {
    "collapsed": false
   },
   "outputs": [],
   "source": [
    "metric1 = RSS()\n",
    "metric2 = Adjusted_Determination_Coefficient()\n",
    "metric3 = Determination_Coefficient()\n",
    "metric4 = VIF()\n",
    "metric5 = BIC()\n",
    "char1 = Condition_Number()\n",
    "comp1 = Cp()"
   ]
  },
  {
   "cell_type": "code",
   "execution_count": 88,
   "metadata": {
    "collapsed": false
   },
   "outputs": [],
   "source": [
    "info = EvaluateDynamicInfo(model=mo, metrics = [metric1, metric2, metric3, metric4, metric5], characteristics=[char1],\n",
    "                           comparisons=[comp1])"
   ]
  },
  {
   "cell_type": "code",
   "execution_count": 89,
   "metadata": {
    "collapsed": false
   },
   "outputs": [
    {
     "data": {
      "text/plain": [
       "(array([[  1.88912046e+02,   1.19515280e+02,   1.74089869e+01,\n",
       "           1.02188939e+02,   1.94580945e+02,   3.31004416e+01,\n",
       "           1.23173146e+01,   1.75225123e+01,   1.37729678e+02,\n",
       "           4.42695688e+01,   5.88742332e+01,   1.70182971e+01,\n",
       "           2.77492672e+02,   1.54155709e+01,   1.84514062e+01,\n",
       "           3.25685432e+01,   1.51212134e+01,   1.14674478e+02,\n",
       "           1.22826028e+01,   9.83819404e+01],\n",
       "        [ -2.63650982e+00,  -1.30063937e+00,   6.64881339e-01,\n",
       "          -9.67111623e-01,  -2.74563472e+00,   3.62824746e-01,\n",
       "           7.62894763e-01,   6.62696003e-01,  -1.65126200e+00,\n",
       "           1.47821828e-01,  -1.33314323e-01,   6.72402020e-01,\n",
       "          -4.34166480e+00,   7.03254100e-01,   6.44815028e-01,\n",
       "           3.73063656e-01,   7.08920409e-01,  -1.20745514e+00,\n",
       "           7.63562956e-01,  -8.93827844e-01],\n",
       "        [ -3.67551263e+00,  -1.95796490e+00,   5.69133151e-01,\n",
       "          -1.52914352e+00,  -3.81581607e+00,   1.80774673e-01,\n",
       "           6.95150410e-01,   5.66323432e-01,  -2.40876542e+00,\n",
       "          -9.56576493e-02,  -4.57118415e-01,   5.78802597e-01,\n",
       "          -5.86785474e+00,   6.18469557e-01,   5.43333607e-01,\n",
       "           1.93938986e-01,   6.25754812e-01,  -1.83815661e+00,\n",
       "           6.96009515e-01,  -1.43492151e+00],\n",
       "        [  2.74988945e-01,   4.34661779e-01,   2.98401766e+00,\n",
       "           5.08359560e-01,   2.66977448e-01,   1.56942692e+00,\n",
       "           4.21753654e+00,   2.96468470e+00,   3.77178869e-01,\n",
       "           1.17346352e+00,   8.82367742e-01,   3.05252187e+00,\n",
       "           1.87207554e-01,   3.36988649e+00,   2.81543443e+00,\n",
       "           1.59505827e+00,   3.43548648e+00,   4.53010338e-01,\n",
       "           4.22945569e+00,   5.28031100e-01],\n",
       "        [  1.93517216e+02,   1.24120450e+02,   2.20141571e+01,\n",
       "           1.06794109e+02,   1.99186115e+02,   3.77056118e+01,\n",
       "           1.69224848e+01,   2.21276825e+01,   1.42334848e+02,\n",
       "           4.88747390e+01,   6.34794034e+01,   2.16234673e+01,\n",
       "           2.82097842e+02,   2.00207411e+01,   2.30565764e+01,\n",
       "           3.71737134e+01,   1.97263836e+01,   1.19279649e+02,\n",
       "           1.68877730e+01,   1.02987111e+02]]),\n",
       " array([[  3.49958208e+02,   8.98752781e+00,   1.23627925e+34,\n",
       "           2.84308725e+02,   3.77941692e+02,   1.49478425e+00,\n",
       "           3.03072054e+01,   1.47487325e+02,   8.50483702e+00,\n",
       "           1.48846662e+01,   1.66306116e+02,   6.04725445e+00,\n",
       "           3.62574546e+01,   3.44500133e+01,   5.24650440e+00,\n",
       "           2.50692668e+00,   7.03780849e+00,   6.11549261e+00,\n",
       "           2.65598485e+01,   2.48803425e+01]]),\n",
       " array([[ 325.71227859,  203.85790323,   24.56858909,  173.43443315,\n",
       "          335.6663474 ,   52.12134869,   15.62807808,   24.76792939,\n",
       "          235.84072103,   71.73331486,   97.37777009,   23.88257362,\n",
       "          481.25175735,   21.06833299,   26.39898206,   51.18738387,\n",
       "           20.55146803,  195.35789824,   15.56712734,  166.74969133]]))"
      ]
     },
     "execution_count": 89,
     "metadata": {},
     "output_type": "execute_result"
    }
   ],
   "source": [
    "info.fit(XX, yy, X2, y2, mask=maskk)"
   ]
  },
  {
   "cell_type": "code",
   "execution_count": null,
   "metadata": {
    "collapsed": true
   },
   "outputs": [],
   "source": []
  },
  {
   "cell_type": "code",
   "execution_count": null,
   "metadata": {
    "collapsed": true
   },
   "outputs": [],
   "source": []
  },
  {
   "cell_type": "code",
   "execution_count": null,
   "metadata": {
    "collapsed": true
   },
   "outputs": [],
   "source": []
  }
 ],
 "metadata": {
  "kernelspec": {
   "display_name": "Python 3",
   "language": "python",
   "name": "python3"
  },
  "language_info": {
   "codemirror_mode": {
    "name": "ipython",
    "version": 3
   },
   "file_extension": ".py",
   "mimetype": "text/x-python",
   "name": "python",
   "nbconvert_exporter": "python",
   "pygments_lexer": "ipython3",
   "version": "3.5.3"
  }
 },
 "nbformat": 4,
 "nbformat_minor": 2
}
