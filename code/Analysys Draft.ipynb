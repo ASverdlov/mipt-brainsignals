{
 "cells": [
  {
   "cell_type": "code",
   "execution_count": 38,
   "metadata": {
    "collapsed": true
   },
   "outputs": [],
   "source": [
    "import numpy as np\n",
    "\n",
    "class Bootstrap():\n",
    "    def __init__(self, X, y, n_samples, len_sample):\n",
    "        self.n_samples = n_samples\n",
    "        self.len_sample = len_sample\n",
    "        self.X = np.array(X)\n",
    "        self.y = np.array(y)\n",
    "        self.sample_X = np.zeros((n_samples, len_sample, self.X.shape[1]))\n",
    "        self.sample_y = np.zeros((n_samples, len_sample, self.y.shape[1]))\n",
    "        for i in range(n_samples):\n",
    "            idx = np.random.choice(np.arange(len(X)), len_sample, replace=True)\n",
    "            self.sample_X[i] = self.X[idx]\n",
    "            self.sample_y[i] = self.y[idx]\n",
    "        print('a', *self.sample_X)\n",
    "        print('b', *self.sample_y)\n",
    "    def eval_model_error(model, error):\n",
    "        result = np.zeros(n_samples)\n",
    "        for i in range(n_samples):\n",
    "            result[i] = error(model, self.sample_X[i], self.sample_y[i])\n",
    "        return result\n",
    "    def fit_eval_model_error(model, error):\n",
    "        result = np.zeros(n_samples)\n",
    "        for i in range(n_samples):\n",
    "            model.fit(self.sample_X[i], self.sample_y[i])\n",
    "            result[i] = error(model, self.sample_X[i], self.sample_y[i])\n",
    "        return result\n",
    "        \n"
   ]
  },
  {
   "cell_type": "code",
   "execution_count": 39,
   "metadata": {
    "collapsed": false
   },
   "outputs": [
    {
     "name": "stdout",
     "output_type": "stream",
     "text": [
      "a [[ 3.  4.]\n",
      " [ 1.  2.]\n",
      " [ 3.  4.]] [[ 3.  4.]\n",
      " [ 1.  2.]\n",
      " [ 1.  2.]] [[ 3.  4.]\n",
      " [ 3.  4.]\n",
      " [ 3.  4.]] [[ 5.  6.]\n",
      " [ 1.  2.]\n",
      " [ 5.  6.]] [[ 1.  2.]\n",
      " [ 3.  4.]\n",
      " [ 5.  6.]]\n",
      "b [[ 3.  4.]\n",
      " [ 1.  2.]\n",
      " [ 3.  4.]] [[ 3.  4.]\n",
      " [ 1.  2.]\n",
      " [ 1.  2.]] [[ 3.  4.]\n",
      " [ 3.  4.]\n",
      " [ 3.  4.]] [[ 5.  6.]\n",
      " [ 1.  2.]\n",
      " [ 5.  6.]] [[ 1.  2.]\n",
      " [ 3.  4.]\n",
      " [ 5.  6.]]\n"
     ]
    }
   ],
   "source": [
    "X = [[1, 2], [3, 4], [5, 6]]\n",
    "b = Bootstrap(X, X, 5, 3)\n"
   ]
  },
  {
   "cell_type": "code",
   "execution_count": 40,
   "metadata": {
    "collapsed": true
   },
   "outputs": [],
   "source": [
    "class Model():\n",
    "    def __init__(self):\n",
    "        pass\n",
    "    def fit(self, X, y):\n",
    "        pass\n",
    "    def predict(self, X):\n",
    "        pass\n",
    "    def predict_params(self, X):\n",
    "        pass\n",
    "        "
   ]
  },
  {
   "cell_type": "code",
   "execution_count": 43,
   "metadata": {
    "collapsed": true
   },
   "outputs": [],
   "source": [
    "class Metric():\n",
    "    def __init__(model):\n",
    "        self.model = model\n",
    "    def eval(X, y):\n",
    "        return 0\n",
    "        pass\n",
    "    "
   ]
  },
  {
   "cell_type": "code",
   "execution_count": 44,
   "metadata": {
    "collapsed": false
   },
   "outputs": [
    {
     "ename": "SyntaxError",
     "evalue": "unexpected EOF while parsing (<ipython-input-44-922528043d20>, line 16)",
     "output_type": "error",
     "traceback": [
      "\u001b[0;36m  File \u001b[0;32m\"<ipython-input-44-922528043d20>\"\u001b[0;36m, line \u001b[0;32m16\u001b[0m\n\u001b[0;31m    \u001b[0m\n\u001b[0m    ^\u001b[0m\n\u001b[0;31mSyntaxError\u001b[0m\u001b[0;31m:\u001b[0m unexpected EOF while parsing\n"
     ]
    }
   ],
   "source": [
    "class EvaluateInfo():\n",
    "    def __init__(model, metric):\n",
    "        self.model = model\n",
    "        self.metric = metric # a function from X and y\n",
    "    def fit(X, y, n_samples=20,len_sample=None, typ='static'):\n",
    "        if len_sample is None:\n",
    "            len_sample = X.shape[1]\n",
    "        b = Bootstrap(X, y, n_samples, len_sample)\n",
    "        if typ == 'static':\n",
    "            model_metric.fit(X, y)\n",
    "            self.errors = b.eval_model_error(model, metric)\n",
    "        else:\n",
    "            self.errors = b.fit_eval_model_errr(model, metric)\n",
    "        pass\n",
    "    #def plot():\n",
    "        #plt.figure(figsize=(15, 10))\n",
    "        "
   ]
  },
  {
   "cell_type": "code",
   "execution_count": null,
   "metadata": {
    "collapsed": true
   },
   "outputs": [],
   "source": []
  }
 ],
 "metadata": {
  "kernelspec": {
   "display_name": "Python 3",
   "language": "python",
   "name": "python3"
  },
  "language_info": {
   "codemirror_mode": {
    "name": "ipython",
    "version": 3
   },
   "file_extension": ".py",
   "mimetype": "text/x-python",
   "name": "python",
   "nbconvert_exporter": "python",
   "pygments_lexer": "ipython3",
   "version": "3.5.3"
  }
 },
 "nbformat": 4,
 "nbformat_minor": 2
}
