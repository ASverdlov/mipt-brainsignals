{
 "cells": [
  {
   "cell_type": "code",
   "execution_count": 568,
   "metadata": {
    "collapsed": false
   },
   "outputs": [],
   "source": [
    "%run \"./metrics/metrics\""
   ]
  },
  {
   "cell_type": "code",
   "execution_count": 308,
   "metadata": {
    "collapsed": true,
    "deletable": true,
    "editable": true
   },
   "outputs": [],
   "source": [
    "import numpy as np\n",
    "\n",
    "class Bootstrap():\n",
    "    def __init__(self, X, y, n_samples, len_sample):\n",
    "        self.n_samples = n_samples\n",
    "        self.len_sample = len_sample\n",
    "        self.X = np.array(X)\n",
    "        self.y = np.array(y)\n",
    "        self.sample_X = np.zeros((n_samples, len_sample, self.X.shape[1]))\n",
    "        self.sample_y = np.zeros((n_samples, len_sample, self.y.shape[1]))\n",
    "        for i in range(n_samples):\n",
    "            idx = np.random.choice(np.arange(len(X)), len_sample, replace=True)\n",
    "            self.sample_X[i] = self.X[idx]\n",
    "            self.sample_y[i] = self.y[idx]\n",
    "        #print('a', *self.sample_X)\n",
    "        #print('b', *self.sample_y)\n",
    "    \n",
    "    def values(self):\n",
    "        return self.sample_X, self.sample_y\n",
    "        \n"
   ]
  },
  {
   "cell_type": "code",
   "execution_count": 309,
   "metadata": {
    "collapsed": false,
    "deletable": true,
    "editable": true
   },
   "outputs": [],
   "source": [
    "X = [[1, 2], [3, 4], [5, 6]]\n",
    "b = Bootstrap(X, X, 5, 3)\n"
   ]
  },
  {
   "cell_type": "code",
   "execution_count": 342,
   "metadata": {
    "collapsed": true,
    "deletable": true,
    "editable": true
   },
   "outputs": [],
   "source": [
    "class Model():\n",
    "    def __init__(self):\n",
    "        pass\n",
    "    def fit(self, X, y):\n",
    "        pass\n",
    "    def predict(self, X):\n",
    "        pass\n",
    "    def predict_params(self, X):\n",
    "        pass\n",
    "        "
   ]
  },
  {
   "cell_type": "code",
   "execution_count": 506,
   "metadata": {
    "collapsed": true
   },
   "outputs": [],
   "source": [
    "%run \"./metrics/metrics\""
   ]
  },
  {
   "cell_type": "code",
   "execution_count": 549,
   "metadata": {
    "collapsed": true
   },
   "outputs": [],
   "source": [
    "class FunctionEvaluator():\n",
    "    def __init__(self, func=None):\n",
    "        if func == None:\n",
    "            self.function = lambda a, b: 0\n",
    "        else:\n",
    "            self.function = func"
   ]
  },
  {
   "cell_type": "code",
   "execution_count": 565,
   "metadata": {
    "collapsed": false,
    "deletable": true,
    "editable": true
   },
   "outputs": [],
   "source": [
    "class Metric(FunctionEvaluator):\n",
    "    def evaluate(self, model, X, y):\n",
    "        z = self.function(y, model.predict(X))\n",
    "        return z\n",
    "    "
   ]
  },
  {
   "cell_type": "code",
   "execution_count": 551,
   "metadata": {
    "collapsed": true
   },
   "outputs": [],
   "source": [
    "class Characteristic(FunctionEvaluator):\n",
    "    def evaluate(self, model):\n",
    "        pass\n",
    "    "
   ]
  },
  {
   "cell_type": "code",
   "execution_count": 552,
   "metadata": {
    "collapsed": true
   },
   "outputs": [],
   "source": [
    "class Comparison(FunctionEvaluator):\n",
    "    def evaluate(self, full_model, model, full_X, y, mask):\n",
    "        pass"
   ]
  },
  {
   "cell_type": "code",
   "execution_count": 553,
   "metadata": {
    "collapsed": true
   },
   "outputs": [],
   "source": [
    "class RSS(Metric):\n",
    "    def __init__(self):\n",
    "        super(RSS, self).__init__(residual_square_sum)"
   ]
  },
  {
   "cell_type": "code",
   "execution_count": 554,
   "metadata": {
    "collapsed": false
   },
   "outputs": [],
   "source": [
    "class Adjusted_Determination_Coefficient(Metric):\n",
    "    def __init__(self):\n",
    "        super(Adjusted_Determination_Coefficient, self).__init__(determination_coefficient)\n",
    "        \n",
    "class Determination_Coefficient(Metric):\n",
    "    def __init__(self):\n",
    "        super(Determination_Coefficient, self).__init__(determination_coefficient)\n",
    "    def evaluate(self, model, X, y):\n",
    "        z = self.function(y, model.predict(X), False)\n",
    "        #print(\"Z\", z)\n",
    "        return z"
   ]
  },
  {
   "cell_type": "code",
   "execution_count": 555,
   "metadata": {
    "collapsed": true
   },
   "outputs": [],
   "source": [
    "class VIF(Metric):\n",
    "    def __init__(self):\n",
    "        super(VIF, self).__init__(variance_inflation_factor)"
   ]
  },
  {
   "cell_type": "code",
   "execution_count": 567,
   "metadata": {
    "collapsed": true
   },
   "outputs": [],
   "source": [
    "class BIC(Metric):\n",
    "    def __init__(self):\n",
    "        super(BIC, self).__init__(bayesian_information_criterion)\n",
    "    def evaluate(self, model, X, y):\n",
    "        num_features = X.shape[1]\n",
    "        z = self.function(y, model.predict(X), num_features)\n",
    "        #print(\"Z\", z)\n",
    "        return z"
   ]
  },
  {
   "cell_type": "code",
   "execution_count": 574,
   "metadata": {
    "collapsed": false
   },
   "outputs": [],
   "source": [
    "class Cp(Comparison):\n",
    "    def __init__(self):\n",
    "        super(Cp, self).__init__(mallows_Cp)\n",
    "    def evaluate(self, full_model, model, full_X, y, mask):\n",
    "        y_full = full_model.predict(full_X)\n",
    "        y_p = model.predict((full_X.T[mask]).T)\n",
    "        p = mask.sum()\n",
    "        return self.function(y, y_full, y_p, p)\n",
    "        \n",
    "        "
   ]
  },
  {
   "cell_type": "code",
   "execution_count": 592,
   "metadata": {
    "collapsed": true
   },
   "outputs": [],
   "source": [
    "class Condition_Number(Characteristic):\n",
    "    def __init__(self):\n",
    "        super(Condition_Number, self).__init__(condition_number_xtx)\n",
    "    def evaluate(self, model):\n",
    "        X = model.coef_\n",
    "        return self.function(X)"
   ]
  },
  {
   "cell_type": "code",
   "execution_count": 593,
   "metadata": {
    "collapsed": false
   },
   "outputs": [
    {
     "data": {
      "text/plain": [
       "25.888917585823872"
      ]
     },
     "execution_count": 593,
     "metadata": {},
     "output_type": "execute_result"
    }
   ],
   "source": [
    "c = Condition_Number()\n",
    "c.evaluate(model)"
   ]
  },
  {
   "cell_type": "code",
   "execution_count": 557,
   "metadata": {
    "collapsed": true
   },
   "outputs": [],
   "source": [
    "class EvaluateInfo():\n",
    "    def __init__(self, model, metrics = [], characteristics = [], comparisons = []):\n",
    "        self.model = model\n",
    "        self.characteristics = characteristics # characteristic of the fitted model itself\n",
    "        self.metrics = metrics # compares y and y_pred\n",
    "        self.comparisons = comparisons #compares y, y_pred, y_pred_with_reduced_features\n",
    "        \n",
    "    def fit(self, X_train, y_train, X_test, y_test, mask = None, n_samples=20, len_sample=None):\n",
    "        if mask == None:\n",
    "            mask = np.ones(X.shape[1], dtype=np.bool)\n",
    "        self.mask = mask\n",
    "        if len_sample is None:\n",
    "            len_sample = X.shape[1]\n",
    "        self.len_sample = len_sample\n",
    "        self.n_samples = n_samples\n",
    "\n",
    "        self.X_train = X_train\n",
    "        self.y_train = y_train\n",
    "\n",
    "        self.X_test = X_test\n",
    "        self.y_test = y_test"
   ]
  },
  {
   "cell_type": "code",
   "execution_count": 581,
   "metadata": {
    "collapsed": false,
    "deletable": true,
    "editable": true
   },
   "outputs": [],
   "source": [
    "from copy import deepcopy\n",
    "class EvaluateStaticInfo(EvaluateInfo):\n",
    "    def __init__(self, model, metrics = [], comparisons = []):\n",
    "        super(EvaluateStaticInfo, self).__init__(model, metrics, [], comparisons)\n",
    "    def __eval(self):\n",
    "        self.sample_X, self.sample_y = self.b.values()\n",
    "        result_metrics = np.zeros((len(self.metrics), self.n_samples))\n",
    "        result_comparisons = np.zeros((len(self.comparisons), self.n_samples))\n",
    "        self.full = deepcopy(model.fit(self.X_train, self.y_train))\n",
    "        \n",
    "        model.fit((self.X_train.T[self.mask]).T, self.y_train)\n",
    "        \n",
    "        for it in range(self.n_samples):\n",
    "            for (i, metric) in enumerate(self.metrics):\n",
    "                result_metrics[i][it] = metric.evaluate(model, (self.sample_X[it].T[self.mask]).T, self.sample_y[it])\n",
    "            for(i, comp) in enumerate(self.comparisons):\n",
    "                result_comparisons[i][it] = comp.evaluate(self.full, model, self.sample_X[it], self.sample_y[it], self.mask)\n",
    "                \n",
    "        return result_metrics\n",
    "\n",
    "    \n",
    "    def fit(self, X_train, y_train, X_test, y_test, mask = None, n_samples=20, len_sample=None):\n",
    "        super(EvaluateStaticInfo, self).fit(X_train, y_train, X_test, y_test, mask, n_samples, len_sample)\n",
    "        self.b = Bootstrap(self.X_test, self.y_test, self.n_samples, self.len_sample)\n",
    "        return self.__eval()\n",
    "        "
   ]
  },
  {
   "cell_type": "code",
   "execution_count": 582,
   "metadata": {
    "collapsed": true,
    "deletable": true,
    "editable": true
   },
   "outputs": [],
   "source": [
    "from sklearn.linear_model import LinearRegression\n",
    "model = LinearRegression()"
   ]
  },
  {
   "cell_type": "code",
   "execution_count": 583,
   "metadata": {
    "collapsed": false
   },
   "outputs": [],
   "source": [
    "import scipy.stats as sps\n",
    "\n",
    "X = sps.norm.rvs(size=(10, 5))\n",
    "X2 = sps.norm.rvs(size=(10, 5))\n",
    "z = sps.uniform.rvs(size=(5, 3))\n",
    "y = X @ z + sps.norm.rvs(scale=0.1, size=(10, 3))\n",
    "y2 = X2 @ z + sps.norm.rvs(scale=0.1, size=(10, 3))\n"
   ]
  },
  {
   "cell_type": "code",
   "execution_count": 584,
   "metadata": {
    "collapsed": false
   },
   "outputs": [],
   "source": [
    "metric1 = RSS()\n",
    "metric2 = Adjusted_Determination_Coefficient()\n",
    "metric3 = Determination_Coefficient()\n",
    "metric4 = VIF()\n",
    "metric5 = BIC()\n",
    "comp1 = Cp()"
   ]
  },
  {
   "cell_type": "code",
   "execution_count": 585,
   "metadata": {
    "collapsed": false
   },
   "outputs": [],
   "source": [
    "info = EvaluateStaticInfo(model=model, metrics = [metric1, metric2, metric3, metric4, metric5], comparisons=[comp1])"
   ]
  },
  {
   "cell_type": "code",
   "execution_count": 586,
   "metadata": {
    "collapsed": false
   },
   "outputs": [
    {
     "data": {
      "text/plain": [
       "array([[   0.89623303,    0.97802173,    0.98327159,    1.0422683 ,\n",
       "           0.86208165,    0.58751302,    1.0855854 ,    0.88037748,\n",
       "           0.50445093,    1.18274876,    0.73847399,    0.79795139,\n",
       "           1.30277444,    0.81667243,    1.21353461,    1.22919977,\n",
       "           0.87725362,    0.65079803,    0.42040033,    1.09234467],\n",
       "       [   0.98338471,    0.98916786,    0.98592616,    0.9725401 ,\n",
       "           0.97289551,    0.96686773,    0.96614138,    0.93739002,\n",
       "           0.98200029,    0.96692171,    0.97383809,    0.98155521,\n",
       "           0.93427608,    0.99265358,    0.9803056 ,    0.96463124,\n",
       "           0.97077176,    0.97763501,    0.98555407,    0.98062596],\n",
       "       [   0.96676942,    0.97833572,    0.97185232,    0.9450802 ,\n",
       "           0.94579101,    0.93373546,    0.93228275,    0.87478005,\n",
       "           0.96400058,    0.93384342,    0.94767618,    0.96311043,\n",
       "           0.86855215,    0.98530717,    0.96061121,    0.92926248,\n",
       "           0.94154353,    0.95527003,    0.97110815,    0.96125193],\n",
       "       [  60.18553257,   92.3178612 ,   71.05381842,   36.41673863,\n",
       "          36.89425219,   30.18205511,   29.53457329,   15.97189556,\n",
       "          55.55645557,   30.2313099 ,   38.2235075 ,   54.21586147,\n",
       "          15.21516004,  136.12077428,   50.77586207,   28.2735384 ,\n",
       "          34.21349212,   44.71274719,   69.22366471,   51.61547262],\n",
       "       [   8.94342259,    9.02521129,    9.03046116,    9.08945786,\n",
       "           8.90927121,    8.63470258,    9.13277496,    8.92756705,\n",
       "           8.55164049,    9.22993832,    8.78566355,    8.84514096,\n",
       "           9.34996401,    8.86386199,    9.26072418,    9.27638933,\n",
       "           8.92444318,    8.69798759,    8.46758989,    9.13953423]])"
      ]
     },
     "execution_count": 586,
     "metadata": {},
     "output_type": "execute_result"
    }
   ],
   "source": [
    "info.fit(X, y, X2, y2)"
   ]
  },
  {
   "cell_type": "code",
   "execution_count": null,
   "metadata": {
    "collapsed": true
   },
   "outputs": [],
   "source": []
  },
  {
   "cell_type": "code",
   "execution_count": null,
   "metadata": {
    "collapsed": true
   },
   "outputs": [],
   "source": []
  },
  {
   "cell_type": "code",
   "execution_count": null,
   "metadata": {
    "collapsed": true
   },
   "outputs": [],
   "source": []
  }
 ],
 "metadata": {
  "kernelspec": {
   "display_name": "Python 3",
   "language": "python",
   "name": "python3"
  },
  "language_info": {
   "codemirror_mode": {
    "name": "ipython",
    "version": 3
   },
   "file_extension": ".py",
   "mimetype": "text/x-python",
   "name": "python",
   "nbconvert_exporter": "python",
   "pygments_lexer": "ipython3",
   "version": "3.5.3"
  }
 },
 "nbformat": 4,
 "nbformat_minor": 2
}
