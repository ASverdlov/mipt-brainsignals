{
 "cells": [
  {
   "cell_type": "code",
   "execution_count": 1,
   "metadata": {
    "collapsed": false,
    "deletable": true,
    "editable": true
   },
   "outputs": [
    {
     "name": "stdout",
     "output_type": "stream",
     "text": [
      "<function condition_number_xtx at 0x7fb0600d9048>\n"
     ]
    }
   ],
   "source": [
    "from metrics import *\n",
    "from bootstrap import *\n",
    "from metric_classes import *"
   ]
  },
  {
   "cell_type": "code",
   "execution_count": 2,
   "metadata": {
    "collapsed": false
   },
   "outputs": [
    {
     "data": {
      "text/plain": [
       "\"Mallow's Cp\""
      ]
     },
     "execution_count": 2,
     "metadata": {},
     "output_type": "execute_result"
    }
   ],
   "source": [
    "str(Cp())"
   ]
  },
  {
   "cell_type": "code",
   "execution_count": 3,
   "metadata": {
    "collapsed": false,
    "deletable": true,
    "editable": true
   },
   "outputs": [],
   "source": [
    "c = Condition_Number()\n",
    "#c.evaluate(model)"
   ]
  },
  {
   "cell_type": "code",
   "execution_count": 49,
   "metadata": {
    "collapsed": false,
    "deletable": true,
    "editable": true
   },
   "outputs": [],
   "source": [
    "class EvaluateInfo():\n",
    "    def __init__(self, model, metrics = [], comparisons = [], characteristics = []):\n",
    "        self.model = model\n",
    "        self.characteristics = characteristics # characteristic of the fitted model itself\n",
    "        self.metrics = metrics # compares y and y_pred\n",
    "        self.comparisons = comparisons #compares y, y_pred, y_pred_with_reduced_features\n",
    "        \n",
    "    def _initResult(self):\n",
    "        self.result = np.zeros((len(self.metrics) + len(self.comparisons) \n",
    "                                + len(self.characteristics), len(self.masks), self.n_samples))\n",
    "\n",
    "    def _calcQuality(self):     \n",
    "        self.quality = np.zeros((len(self.metrics) + len(self.comparisons) \n",
    "                                + len(self.characteristics), len(self.masks)))\n",
    "        model = self.model\n",
    "        for (m, mask) in enumerate(self.masks):\n",
    "            reduced_X_test = self.X_test[:, mask]\n",
    "            model.fit(self.X_train.T[mask].T, self.y_train)\n",
    "            for (i, metric) in enumerate(self.metrics):\n",
    "                self.quality[i][m] = metric.evaluate(model, reduced_X_test, self.y_test)\n",
    "\n",
    "            for (i, comp) in enumerate(self.comparisons):\n",
    "                ind = i + len(self.metrics)\n",
    "                self.quality[ind][m] = comp.evaluate(self.full, model, self.X_test,\n",
    "                                                                 reduced_X_test, self.y_test)\n",
    "            for (i, char) in enumerate(self.characteristics):\n",
    "                ind = i + len(self.metrics) + len(self.comparisons)\n",
    "                self.quality[ind][m] = char.evaluate(model)\n",
    "        \n",
    "    def fit(self, X_train, y_train, X_test, y_test, masks = None, n_samples=20, len_sample=None):\n",
    "        if masks is None:\n",
    "            masks = np.ones((1, X.shape[1]), dtype=bool)\n",
    "        masks = np.array(masks, dtype=bool)\n",
    "        if len(masks.shape) == 1:\n",
    "            masks = masks.reshape((1, len(masks.shape)))\n",
    "        self.masks = masks\n",
    "        \n",
    "        if len_sample is None:\n",
    "            len_sample = X_train.shape[1]\n",
    "        self.len_sample = len_sample\n",
    "        \n",
    "        self.n_samples = n_samples\n",
    "\n",
    "        self.X_train = X_train\n",
    "        self.y_train = y_train\n",
    "\n",
    "        self.X_test = X_test\n",
    "        self.y_test = y_test\n",
    "        \n",
    "        self.full = deepcopy(self.model.fit(self.X_train, self.y_train))\n",
    "        \n",
    "        self._initResult()\n",
    "        self._calcQuality()\n",
    "    \n",
    "    \n",
    "    def get_quality(self):\n",
    "        return self.quality\n",
    "    \n",
    "    def get_result(self):\n",
    "        return self.result\n",
    "    "
   ]
  },
  {
   "cell_type": "code",
   "execution_count": 64,
   "metadata": {
    "collapsed": false,
    "deletable": true,
    "editable": true
   },
   "outputs": [],
   "source": [
    "from copy import deepcopy\n",
    "class EvaluateStaticInfo(EvaluateInfo):\n",
    "    def __init__(self, model, metrics = [], comparisons = []):\n",
    "        super(EvaluateStaticInfo, self).__init__(model, metrics, comparisons, [])\n",
    "    \n",
    "    def __eval(self):\n",
    "        model = self.model\n",
    "        \n",
    "        sample_X, sample_y = self.boot.values()\n",
    "        \n",
    "        self.models = []\n",
    "        for mask in self.masks:\n",
    "            self.models += [deepcopy(model.fit(self.X_train[:, mask], self.y_train))]\n",
    "        \n",
    "        for (m, mask) in enumerate(self.masks):\n",
    "            for it in range(self.n_samples):\n",
    "                reduced_X_cur = (sample_X[it].T[mask]).T\n",
    "                for (i, metric) in enumerate(self.metrics):\n",
    "                    self.result[i][m][it] = metric.evaluate(self.models[m], reduced_X_cur, sample_y[it])\n",
    "                for(i, comp) in enumerate(self.comparisons):\n",
    "                    ind = i + len(self.metrics)\n",
    "                    self.result[ind][m][it] = comp.evaluate(self.full, self.models[m], sample_X[it], \n",
    "                                                              reduced_X_cur, sample_y[it])\n",
    "\n",
    "    def fit(self, X_train, y_train, X_test, y_test, masks = None, n_samples=20, len_sample=None):\n",
    "        super(EvaluateStaticInfo, self).fit(X_train, y_train, X_test, y_test, masks, n_samples, len_sample)\n",
    "        self.boot = Bootstrap(self.X_test, self.y_test, self.n_samples, self.len_sample)\n",
    "        self.__eval()\n",
    "        "
   ]
  },
  {
   "cell_type": "code",
   "execution_count": 65,
   "metadata": {
    "collapsed": false,
    "deletable": true,
    "editable": true
   },
   "outputs": [],
   "source": [
    "from copy import deepcopy\n",
    "class EvaluateDynamicInfo(EvaluateInfo):\n",
    "    def __init__(self, model, metrics = [], comparisons = [], characteristics = []):\n",
    "        super(EvaluateDynamicInfo, self).__init__(model, metrics, comparisons, characteristics)\n",
    "    \n",
    "    def __eval(self):\n",
    "        model = self.model\n",
    "        \n",
    "        sample_X, sample_y = self.boot.values()\n",
    "            \n",
    "        for (m, mask) in enumerate(self.masks):\n",
    "            reduced_X_test = (self.X_test.T[mask]).T\n",
    "            for it in range(self.n_samples):\n",
    "                model.fit((sample_X[it].T[mask]).T, sample_y[it])\n",
    "                for (i, metric) in enumerate(self.metrics):\n",
    "                    self.result[i][m][it] = metric.evaluate(model, reduced_X_test, self.y_test)\n",
    "\n",
    "                for (i, char) in enumerate(self.characteristics):\n",
    "                    ind = i + len(self.metrics)\n",
    "                    self.result[ind][m][it] = char.evaluate(model)\n",
    "\n",
    "                for (i, comp) in enumerate(self.comparisons):\n",
    "                    ind = i + len(self.metrics) + len(self.comparisons)\n",
    "                    self.result[ind][m][it] = comp.evaluate(self.full, model, self.X_test,\n",
    "                                                              reduced_X_test, self.y_test)\n",
    "                \n",
    "\n",
    "    def fit(self, X_train, y_train, X_test, y_test, masks = None, n_samples=20, len_sample=None):\n",
    "        super(EvaluateDynamicInfo, self).fit(X_train, y_train, X_test, y_test, masks, n_samples, len_sample)\n",
    "        self.boot = Bootstrap(self.X_test, self.y_test, self.n_samples, self.len_sample)\n",
    "        self.__eval()\n",
    "    "
   ]
  },
  {
   "cell_type": "code",
   "execution_count": 66,
   "metadata": {
    "collapsed": true,
    "deletable": true,
    "editable": true
   },
   "outputs": [],
   "source": [
    "from sklearn.linear_model import LinearRegression\n",
    "mo = LinearRegression()"
   ]
  },
  {
   "cell_type": "code",
   "execution_count": 67,
   "metadata": {
    "collapsed": false,
    "deletable": true,
    "editable": true
   },
   "outputs": [
    {
     "name": "stdout",
     "output_type": "stream",
     "text": [
      "[ 1.  0.  0.  0.  1.]\n"
     ]
    }
   ],
   "source": [
    "import scipy.stats as sps\n",
    "\n",
    "XX = sps.norm.rvs(size=(10, 5))\n",
    "X2 = sps.norm.rvs(size=(10, 5))\n",
    "zz = sps.uniform.rvs(size=(5, 3))\n",
    "yy = XX @ zz + sps.norm.rvs(scale=0.1, size=(10, 3))\n",
    "y2 = X2 @ zz + sps.norm.rvs(scale=0.1, size=(10, 3))\n",
    "maskk = np.ones(XX.shape[1])\n",
    "maskk[2]=0\n",
    "maskk[1] = 0\n",
    "maskk[3] = 0\n",
    "print(maskk)"
   ]
  },
  {
   "cell_type": "code",
   "execution_count": 68,
   "metadata": {
    "collapsed": false,
    "deletable": true,
    "editable": true
   },
   "outputs": [],
   "source": [
    "metric1 = RSS()\n",
    "metric2 = Adjusted_Determination_Coefficient()\n",
    "metric3 = Determination_Coefficient()\n",
    "metric4 = VIF()\n",
    "metric5 = BIC()\n",
    "char1 = Condition_Number()\n",
    "comp1 = Cp()"
   ]
  },
  {
   "cell_type": "code",
   "execution_count": 69,
   "metadata": {
    "collapsed": false,
    "deletable": true,
    "editable": true
   },
   "outputs": [],
   "source": [
    "info = EvaluateStaticInfo(mo, [metric1, metric2, metric3, metric4, metric5],\n",
    "                           [comp1])#, [char1])"
   ]
  },
  {
   "cell_type": "code",
   "execution_count": 70,
   "metadata": {
    "collapsed": false,
    "deletable": true,
    "editable": true
   },
   "outputs": [],
   "source": [
    "info.fit(XX, yy, X2, y2, masks=[np.ones(len(XX.T)), maskk])"
   ]
  },
  {
   "cell_type": "code",
   "execution_count": 71,
   "metadata": {
    "collapsed": false,
    "deletable": true,
    "editable": true
   },
   "outputs": [
    {
     "data": {
      "text/plain": [
       "array([[[  6.12961434e-01,   7.03005187e-01,   3.10206129e-01,\n",
       "           7.62816436e-01,   7.85673055e-01,   6.18924343e-01,\n",
       "           8.65969786e-01,   7.93847452e-01,   4.25465497e-01,\n",
       "           7.87355970e-01,   8.79604688e-01,   7.19452362e-01,\n",
       "           6.94581983e-01,   7.12905902e-01,   5.30853756e-01,\n",
       "           5.93897124e-01,   7.80339220e-01,   4.93764259e-01,\n",
       "           7.71776409e-01,   5.80333914e-01],\n",
       "        [  2.25144682e+01,   2.26574296e+01,   2.21665379e+01,\n",
       "           2.14584411e+01,   4.15344403e+01,   2.81185210e+01,\n",
       "           2.96608936e+01,   3.37535039e+01,   1.90793264e+01,\n",
       "           3.27141414e+01,   3.73652266e+01,   1.75218252e+01,\n",
       "           2.12388763e+01,   2.92376269e+01,   1.69759980e+01,\n",
       "           2.36749468e+01,   2.48505990e+01,   2.46255352e+01,\n",
       "           3.31363266e+01,   2.75272061e+01]],\n",
       "\n",
       "       [[  9.62147803e-01,   9.88267822e-01,   9.88556165e-01,\n",
       "           9.87567648e-01,   9.83788457e-01,   9.88406205e-01,\n",
       "           9.43006896e-01,   9.86594110e-01,   9.90983711e-01,\n",
       "           9.73921037e-01,   9.81997307e-01,   9.86870720e-01,\n",
       "           9.86669839e-01,   9.48482450e-01,   9.90007485e-01,\n",
       "           9.80428200e-01,   9.82682098e-01,   9.92130112e-01,\n",
       "           9.37698573e-01,   9.78633748e-01],\n",
       "        [ -3.90335588e-01,   6.21879051e-01,   1.82252772e-01,\n",
       "           6.50271175e-01,   1.42980185e-01,   4.73279131e-01,\n",
       "          -9.52107837e-01,   4.29996576e-01,   5.95678802e-01,\n",
       "          -8.35643741e-02,   2.35253400e-01,   6.80244366e-01,\n",
       "           5.92391313e-01,  -1.11283272e+00,   6.80452656e-01,\n",
       "           2.19795306e-01,   4.48495946e-01,   6.07504613e-01,\n",
       "          -1.67492037e+00,  -1.34737869e-02]],\n",
       "\n",
       "       [[  9.24295605e-01,   9.76535645e-01,   9.77112330e-01,\n",
       "           9.75135296e-01,   9.67576913e-01,   9.76812410e-01,\n",
       "           8.86013791e-01,   9.73188220e-01,   9.81967422e-01,\n",
       "           9.47842074e-01,   9.63994614e-01,   9.73741440e-01,\n",
       "           9.73339677e-01,   8.96964900e-01,   9.80014971e-01,\n",
       "           9.60856400e-01,   9.65364196e-01,   9.84260225e-01,\n",
       "           8.75397146e-01,   9.57267497e-01],\n",
       "        [ -1.78067118e+00,   2.43758102e-01,  -6.35494457e-01,\n",
       "           3.00542349e-01,  -7.14039629e-01,  -5.34417385e-02,\n",
       "          -2.90421567e+00,  -1.40006847e-01,   1.91357605e-01,\n",
       "          -1.16712875e+00,  -5.29493199e-01,   3.60488731e-01,\n",
       "           1.84782625e-01,  -3.22566543e+00,   3.60905311e-01,\n",
       "          -5.60409389e-01,  -1.03008109e-01,   2.15009225e-01,\n",
       "          -4.34984075e+00,  -1.02694757e+00]],\n",
       "\n",
       "       [[  2.64185455e+01,   8.52356683e+01,   8.73832942e+01,\n",
       "           8.04353019e+01,   6.16844420e+01,   8.62530347e+01,\n",
       "           1.75459823e+01,   7.45940769e+01,   1.10910377e+02,\n",
       "           3.83450832e+01,   5.55472458e+01,   7.61656399e+01,\n",
       "           7.50178460e+01,   1.94108609e+01,   1.00074910e+02,\n",
       "           5.10939208e+01,   5.77437144e+01,   1.27066618e+02,\n",
       "           1.60509967e+01,   4.68027813e+01],\n",
       "        [  7.19250812e-01,   2.64465643e+00,   1.22287177e+00,\n",
       "           2.85935824e+00,   1.16683417e+00,   1.89853879e+00,\n",
       "           5.12266782e-01,   1.75437543e+00,   2.47328116e+00,\n",
       "           9.22880102e-01,   1.30762268e+00,   3.12738821e+00,\n",
       "           2.45333338e+00,   4.73298237e-01,   3.12942673e+00,\n",
       "           1.28171492e+00,   1.81322330e+00,   2.54780064e+00,\n",
       "           3.73842904e-01,   9.86705342e-01]],\n",
       "\n",
       "       [[  8.66015100e+00,   8.75019475e+00,   8.35739569e+00,\n",
       "           8.81000600e+00,   8.83286262e+00,   8.66611391e+00,\n",
       "           8.91315935e+00,   8.84103701e+00,   8.47265506e+00,\n",
       "           8.83454553e+00,   8.92679425e+00,   8.76664192e+00,\n",
       "           8.74177155e+00,   8.76009546e+00,   8.57804332e+00,\n",
       "           8.64108669e+00,   8.82752878e+00,   8.54095382e+00,\n",
       "           8.81896597e+00,   8.62752348e+00],\n",
       "        [  2.57333441e+01,   2.58763054e+01,   2.53854137e+01,\n",
       "           2.46773169e+01,   4.47533161e+01,   3.13373969e+01,\n",
       "           3.28797694e+01,   3.69723798e+01,   2.22982023e+01,\n",
       "           3.59330172e+01,   4.05841024e+01,   2.07407010e+01,\n",
       "           2.44577521e+01,   3.24565027e+01,   2.01948738e+01,\n",
       "           2.68938226e+01,   2.80694748e+01,   2.78444110e+01,\n",
       "           3.63552024e+01,   3.07460819e+01]],\n",
       "\n",
       "       [[  6.00000000e+00,   6.00000000e+00,   6.00000000e+00,\n",
       "           6.00000000e+00,   6.00000000e+00,   6.00000000e+00,\n",
       "           6.00000000e+00,   6.00000000e+00,   6.00000000e+00,\n",
       "           6.00000000e+00,   6.00000000e+00,   6.00000000e+00,\n",
       "           6.00000000e+00,   6.00000000e+00,   6.00000000e+00,\n",
       "           6.00000000e+00,   6.00000000e+00,   6.00000000e+00,\n",
       "           6.00000000e+00,   6.00000000e+00],\n",
       "        [  3.57306440e+01,   3.12293918e+01,   7.04574467e+01,\n",
       "           2.71305437e+01,   5.18647891e+01,   4.44312734e+01,\n",
       "           3.32516495e+01,   4.15188792e+01,   4.38434163e+01,\n",
       "           4.05493661e+01,   4.14795673e+01,   2.33543925e+01,\n",
       "           2.95779258e+01,   4.00119019e+01,   3.09786717e+01,\n",
       "           3.88637169e+01,   3.08458926e+01,   4.88730614e+01,\n",
       "           4.19351380e+01,   4.64333920e+01]]])"
      ]
     },
     "execution_count": 71,
     "metadata": {},
     "output_type": "execute_result"
    }
   ],
   "source": [
    "info.get_result()"
   ]
  },
  {
   "cell_type": "code",
   "execution_count": 72,
   "metadata": {
    "collapsed": false,
    "deletable": true,
    "editable": true
   },
   "outputs": [
    {
     "data": {
      "text/plain": [
       "array([[  1.41733867e+00,   5.17683809e+01],\n",
       "       [  9.73490673e-01,   3.17452162e-02],\n",
       "       [  9.65916579e-01,  -2.44899008e-01],\n",
       "       [  3.77225718e+01,   1.03278602e+00],\n",
       "       [  1.29302641e+01,   5.63735511e+01],\n",
       "       [  1.00000000e+00,   3.05250606e+01]])"
      ]
     },
     "execution_count": 72,
     "metadata": {},
     "output_type": "execute_result"
    }
   ],
   "source": [
    "info.get_quality()"
   ]
  },
  {
   "cell_type": "code",
   "execution_count": null,
   "metadata": {
    "collapsed": true
   },
   "outputs": [],
   "source": []
  },
  {
   "cell_type": "code",
   "execution_count": null,
   "metadata": {
    "collapsed": true
   },
   "outputs": [],
   "source": []
  },
  {
   "cell_type": "code",
   "execution_count": null,
   "metadata": {
    "collapsed": true
   },
   "outputs": [],
   "source": []
  },
  {
   "cell_type": "code",
   "execution_count": null,
   "metadata": {
    "collapsed": true
   },
   "outputs": [],
   "source": []
  }
 ],
 "metadata": {
  "kernelspec": {
   "display_name": "Python 3",
   "language": "python",
   "name": "python3"
  },
  "language_info": {
   "codemirror_mode": {
    "name": "ipython",
    "version": 3
   },
   "file_extension": ".py",
   "mimetype": "text/x-python",
   "name": "python",
   "nbconvert_exporter": "python",
   "pygments_lexer": "ipython3",
   "version": "3.5.3"
  }
 },
 "nbformat": 4,
 "nbformat_minor": 2
}
