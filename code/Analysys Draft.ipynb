{
 "cells": [
  {
   "cell_type": "code",
   "execution_count": 8,
   "metadata": {
    "collapsed": false
   },
   "outputs": [],
   "source": [
    "%run \"./metrics/metrics\""
   ]
  },
  {
   "cell_type": "code",
   "execution_count": 205,
   "metadata": {
    "collapsed": true,
    "deletable": true,
    "editable": true
   },
   "outputs": [],
   "source": [
    "import numpy as np\n",
    "\n",
    "class Bootstrap():\n",
    "    def __init__(self, X, y, n_samples, len_sample):\n",
    "        self.n_samples = n_samples\n",
    "        self.len_sample = len_sample\n",
    "        self.X = np.array(X)\n",
    "        self.y = np.array(y)\n",
    "        self.sample_X = np.zeros((n_samples, len_sample, self.X.shape[1]))\n",
    "        self.sample_y = np.zeros((n_samples, len_sample, self.y.shape[1]))\n",
    "        for i in range(n_samples):\n",
    "            idx = np.random.choice(np.arange(len(X)), len_sample, replace=True)\n",
    "            self.sample_X[i] = self.X[idx]\n",
    "            self.sample_y[i] = self.y[idx]\n",
    "        #print('a', *self.sample_X)\n",
    "        #print('b', *self.sample_y)\n",
    "    \n",
    "    def values(self):\n",
    "        return self.sample_X, self.sample_y\n",
    "        \n"
   ]
  },
  {
   "cell_type": "code",
   "execution_count": 39,
   "metadata": {
    "collapsed": false,
    "deletable": true,
    "editable": true
   },
   "outputs": [
    {
     "name": "stdout",
     "output_type": "stream",
     "text": [
      "a [[ 3.  4.]\n",
      " [ 1.  2.]\n",
      " [ 3.  4.]] [[ 3.  4.]\n",
      " [ 1.  2.]\n",
      " [ 1.  2.]] [[ 3.  4.]\n",
      " [ 3.  4.]\n",
      " [ 3.  4.]] [[ 5.  6.]\n",
      " [ 1.  2.]\n",
      " [ 5.  6.]] [[ 1.  2.]\n",
      " [ 3.  4.]\n",
      " [ 5.  6.]]\n",
      "b [[ 3.  4.]\n",
      " [ 1.  2.]\n",
      " [ 3.  4.]] [[ 3.  4.]\n",
      " [ 1.  2.]\n",
      " [ 1.  2.]] [[ 3.  4.]\n",
      " [ 3.  4.]\n",
      " [ 3.  4.]] [[ 5.  6.]\n",
      " [ 1.  2.]\n",
      " [ 5.  6.]] [[ 1.  2.]\n",
      " [ 3.  4.]\n",
      " [ 5.  6.]]\n"
     ]
    }
   ],
   "source": [
    "X = [[1, 2], [3, 4], [5, 6]]\n",
    "b = Bootstrap(X, X, 5, 3)\n"
   ]
  },
  {
   "cell_type": "code",
   "execution_count": 40,
   "metadata": {
    "collapsed": true,
    "deletable": true,
    "editable": true
   },
   "outputs": [],
   "source": [
    "class Model():\n",
    "    def __init__(self):\n",
    "        pass\n",
    "    def fit(self, X, y):\n",
    "        pass\n",
    "    def predict(self, X):\n",
    "        pass\n",
    "    def predict_params(self, X):\n",
    "        pass\n",
    "        "
   ]
  },
  {
   "cell_type": "code",
   "execution_count": 21,
   "metadata": {
    "collapsed": false,
    "deletable": true,
    "editable": true
   },
   "outputs": [],
   "source": [
    "class Metric():\n",
    "    def __init__(self, func=None):\n",
    "        if func == None:\n",
    "            self.function = lambda a, b: 0\n",
    "        else:\n",
    "            self.function = func\n",
    "    def evaluate(self, model, X, y):\n",
    "        return self.function(y, model.predict(X))\n",
    "    "
   ]
  },
  {
   "cell_type": "code",
   "execution_count": 25,
   "metadata": {
    "collapsed": true
   },
   "outputs": [],
   "source": [
    "class Characteristic():\n",
    "    def __init__(self):\n",
    "        pass\n",
    "    def evaluate(self, model):\n",
    "        pass\n",
    "    "
   ]
  },
  {
   "cell_type": "code",
   "execution_count": 26,
   "metadata": {
    "collapsed": true
   },
   "outputs": [],
   "source": [
    "class Comparison():\n",
    "    def __init__(self):\n",
    "        pass\n",
    "    def evaluate(self, model, full_X, mask, y):\n",
    "        pass"
   ]
  },
  {
   "cell_type": "code",
   "execution_count": 23,
   "metadata": {
    "collapsed": false
   },
   "outputs": [],
   "source": [
    "m = Metric()"
   ]
  },
  {
   "cell_type": "code",
   "execution_count": 24,
   "metadata": {
    "collapsed": true
   },
   "outputs": [],
   "source": [
    "rss = Metric(residual_square_sum)"
   ]
  },
  {
   "cell_type": "code",
   "execution_count": 142,
   "metadata": {
    "collapsed": true
   },
   "outputs": [],
   "source": [
    "class EvaluateInfo():\n",
    "    def __init__(self, model, metrics = [], characteristics = [], comparisons = []):\n",
    "        self.model = model\n",
    "        self.characteristics = characteristics # characteristic of the fitted model itself\n",
    "        self.metrics = metrics # compares y and y_pred\n",
    "        self.comparisons = comparisons #compares y, y_pred, y_pred_with_reduced_features\n",
    "        \n",
    "    def fit(self, X_train, y_train, X_test, y_test, mask = None, n_samples=20, len_sample=None):\n",
    "        if mask == None:\n",
    "            mask = np.ones(X.shape[1], dtype=np.bool)\n",
    "        self.mask = mask\n",
    "        if len_sample is None:\n",
    "            len_sample = X.shape[1]\n",
    "        self.len_sample = len_sample\n",
    "        self.n_samples = n_samples\n",
    "\n",
    "        self.X_train = X_train\n",
    "        self.y_train = y_train\n",
    "\n",
    "        self.X_test = X_test\n",
    "        self.y_test = y_test"
   ]
  },
  {
   "cell_type": "code",
   "execution_count": 206,
   "metadata": {
    "collapsed": false,
    "deletable": true,
    "editable": true
   },
   "outputs": [],
   "source": [
    "from copy import deepcopy\n",
    "class EvaluateStaticInfo(EvaluateInfo):\n",
    "    #def __init__(self, model, metrics = [], characteristics = [], comparisons = []):\n",
    "    #    super.__init__(self, model, metrics = [], characteristics = [], comparisons = [])\n",
    "    def __eval(self):\n",
    "        self.sample_X, self.sample_y = self.b.values()\n",
    "        print(len(self.metrics), self.n_samples)\n",
    "        result_metrics = np.zeros((len(self.metrics), self.n_samples))\n",
    "        #result_characteristics = np.zeros(len(self.characteristics), n_samples)\n",
    "        #result_comparisons = np.zeros(len(self.comparisons), n_samples)\n",
    "        self.full = deepcopy(model.fit(self.X_train, self.y_train))\n",
    "        \n",
    "        model.fit((self.X_train.T[self.mask]).T, self.y_train)\n",
    "        \n",
    "        for it in range(self.n_samples):\n",
    "            for (i, metric) in enumerate(self.metrics):\n",
    "                #print(\"S\", (self.sample_X[it].T[self.mask]).T, self.sample_y[it])\n",
    "                result_metrics[i][it] = metric.evaluate(model, (self.sample_X[it].T[self.mask]).T, self.sample_y[it])\n",
    "                \n",
    "        return result_metrics\n",
    "\n",
    "    \n",
    "    def fit(self, X_train, y_train, X_test, y_test, mask = None, n_samples=20, len_sample=None):\n",
    "        super(EvaluateStaticInfo, self).fit(X_train, y_train, X_test, y_test, mask, n_samples, len_sample)\n",
    "        self.b = Bootstrap(self.X_test, self.y_test, self.n_samples, self.len_sample)\n",
    "        return self.__eval()\n",
    "        "
   ]
  },
  {
   "cell_type": "code",
   "execution_count": 207,
   "metadata": {
    "collapsed": true,
    "deletable": true,
    "editable": true
   },
   "outputs": [],
   "source": [
    "from sklearn.linear_model import LinearRegression\n",
    "model = LinearRegression()"
   ]
  },
  {
   "cell_type": "code",
   "execution_count": 208,
   "metadata": {
    "collapsed": false
   },
   "outputs": [],
   "source": [
    "import scipy.stats as sps\n",
    "\n",
    "X = sps.norm.rvs(size=(10, 5))\n",
    "X2 = sps.norm.rvs(size=(10, 5))\n",
    "z = sps.uniform.rvs(size=(5, 3))\n",
    "y = X @ z + sps.norm.rvs(scale=0.1, size=(10, 3))\n",
    "y2 = X2 @ z + sps.norm.rvs(scale=0.1, size=(10, 3))\n"
   ]
  },
  {
   "cell_type": "code",
   "execution_count": 209,
   "metadata": {
    "collapsed": true
   },
   "outputs": [],
   "source": [
    "metric = Metric(residual_square_sum)\n"
   ]
  },
  {
   "cell_type": "code",
   "execution_count": 210,
   "metadata": {
    "collapsed": false
   },
   "outputs": [],
   "source": [
    "info = EvaluateStaticInfo(model=model, metrics = [metric])"
   ]
  },
  {
   "cell_type": "code",
   "execution_count": 211,
   "metadata": {
    "collapsed": false
   },
   "outputs": [
    {
     "name": "stdout",
     "output_type": "stream",
     "text": [
      "1 20\n"
     ]
    },
    {
     "data": {
      "text/plain": [
       "array([[ 0.23110496,  0.1686415 ,  0.20663252,  0.1949358 ,  0.38208779,\n",
       "         0.35858081,  0.1886878 ,  0.26887413,  0.2571931 ,  0.22150303,\n",
       "         0.28648987,  0.18533387,  0.24660494,  0.25487182,  0.4206269 ,\n",
       "         0.19239849,  0.27814709,  0.20759798,  0.23509797,  0.18914183]])"
      ]
     },
     "execution_count": 211,
     "metadata": {},
     "output_type": "execute_result"
    }
   ],
   "source": [
    "info.fit(X, y, X2, y2)"
   ]
  },
  {
   "cell_type": "code",
   "execution_count": null,
   "metadata": {
    "collapsed": true
   },
   "outputs": [],
   "source": []
  },
  {
   "cell_type": "code",
   "execution_count": null,
   "metadata": {
    "collapsed": true
   },
   "outputs": [],
   "source": []
  }
 ],
 "metadata": {
  "kernelspec": {
   "display_name": "Python 3",
   "language": "python",
   "name": "python3"
  },
  "language_info": {
   "codemirror_mode": {
    "name": "ipython",
    "version": 3
   },
   "file_extension": ".py",
   "mimetype": "text/x-python",
   "name": "python",
   "nbconvert_exporter": "python",
   "pygments_lexer": "ipython3",
   "version": "3.5.3"
  }
 },
 "nbformat": 4,
 "nbformat_minor": 2
}
