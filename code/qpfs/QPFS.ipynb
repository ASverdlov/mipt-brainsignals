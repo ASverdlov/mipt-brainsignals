{
 "cells": [
  {
   "cell_type": "code",
   "execution_count": 105,
   "metadata": {
    "collapsed": false,
    "deletable": true,
    "editable": true
   },
   "outputs": [],
   "source": [
    "import numpy as np\n",
    "import scipy as sc\n",
    "import scipy.stats as sps\n",
    "import matplotlib.pyplot as plt\n",
    "%matplotlib inline\n",
    "from IPython import display\n",
    "import pandas as pd\n",
    "import cvxpy as cvx\n",
    "import cvxopt \n",
    "import sklearn.feature_selection as fs\n",
    "from sklearn.model_selection import train_test_split\n",
    "from sklearn.linear_model import LinearRegression\n",
    "from sklearn.metrics import mutual_info_score\n",
    "\n",
    "%config InlineBackend.figure_format = 'retina'"
   ]
  },
  {
   "cell_type": "code",
   "execution_count": 96,
   "metadata": {
    "collapsed": false
   },
   "outputs": [],
   "source": [
    "%run numpy_nn.py"
   ]
  },
  {
   "cell_type": "markdown",
   "metadata": {
    "deletable": true,
    "editable": true
   },
   "source": [
    "### Data"
   ]
  },
  {
   "cell_type": "code",
   "execution_count": 97,
   "metadata": {
    "collapsed": true,
    "deletable": true,
    "editable": true
   },
   "outputs": [],
   "source": [
    "def generate_collinear_features(n, X):\n",
    "    '''This is taken from Roman. Makes features correlated'''\n",
    "    n_features = X.shape[1]\n",
    "    X_new = np.zeros([X.shape[0], n])\n",
    "    for i in range(n):\n",
    "        n_cols = max(2, np.random.randint(n_features / 3) + 1)\n",
    "        col_idxs = np.random.choice(np.arange(n_features), int(n_cols), replace=False)\n",
    "        coef = np.random.rand(n_cols)\n",
    "        coef /= np.sqrt(np.sum(coef ** 2))\n",
    "        X_new[:, i] = X[:, col_idxs].dot(coef) \n",
    "    return X_new"
   ]
  },
  {
   "cell_type": "code",
   "execution_count": 98,
   "metadata": {
    "collapsed": false
   },
   "outputs": [],
   "source": [
    "def generate_y(X, coeffs = None):\n",
    "    '''Generates y'''\n",
    "    \n",
    "    if coeffs is None:\n",
    "        coeffs = sps.expon.rvs(size=(X.shape[1], 3)) # some_matrix just for testing\n",
    "    ans = X @ coeffs\n",
    "    error = sps.norm.rvs(scale=0.5, size=ans.shape)\n",
    "    y = ans + error\n",
    "    return y\n",
    "    \n",
    "    "
   ]
  },
  {
   "cell_type": "code",
   "execution_count": 99,
   "metadata": {
    "collapsed": false
   },
   "outputs": [],
   "source": [
    "def generate_correlated_data(n_samples, n_features, p=0.5, draw=True):\n",
    "    '''Generates correlated data'''\n",
    "    start_n_features = int(p * n_features)\n",
    "    X = sps.norm.rvs(size=(n_samples, start_n_features))\n",
    "    X_col = generate_collinear_features(n_features - start_n_features, X)\n",
    "    X = np.hstack([X, X_col])\n",
    "    if draw:\n",
    "        plt.figure(figsize=(6, 5))\n",
    "        plt.imshow(np.corrcoef(X.T))\n",
    "        plt.xticks((0, 5, 10, 15), fontsize=16)\n",
    "        plt.yticks((0, 5, 10, 15), fontsize=16)\n",
    "        cbar = plt.colorbar()\n",
    "        cbar.ax.tick_params(labelsize=16) \n",
    "        plt.tight_layout()\n",
    "        plt.show()\n",
    "    y = generate_y(X) # here can be something else\n",
    "    return X, y"
   ]
  },
  {
   "cell_type": "markdown",
   "metadata": {
    "collapsed": true,
    "deletable": true,
    "editable": true
   },
   "source": [
    "### Synthetic data"
   ]
  },
  {
   "cell_type": "code",
   "execution_count": 37,
   "metadata": {
    "collapsed": true
   },
   "outputs": [],
   "source": [
    "def get_test_train(X, y):\n",
    "    X_train, X_test, y_train, y_test = train_test_split(X, y, test_size=0.33, random_state=179)\n",
    "    return X_train, X_test, y_train, y_test"
   ]
  },
  {
   "cell_type": "code",
   "execution_count": 52,
   "metadata": {
    "collapsed": false
   },
   "outputs": [
    {
     "data": {
      "image/png": "[encoded data removed]",
      "text/plain": [
       "<matplotlib.figure.Figure at 0x7f4b4fabb6a0>"
      ]
     },
     "metadata": {
      "image/png": {
       "height": 348,
       "width": 421
      }
     },
     "output_type": "display_data"
    },
    {
     "name": "stdout",
     "output_type": "stream",
     "text": [
      "(50, 3)\n",
      "(33, 3)\n"
     ]
    }
   ],
   "source": [
    "X, y = generate_correlated_data(50, 10)\n",
    "print(y.shape)\n",
    "X_train, X_test, y_train, y_test = get_test_train(X, y)\n",
    "print(y_train.shape)"
   ]
  },
  {
   "cell_type": "markdown",
   "metadata": {
    "deletable": true,
    "editable": true
   },
   "source": [
    "### Quadratic programming"
   ]
  },
  {
   "cell_type": "code",
   "execution_count": 128,
   "metadata": {
    "collapsed": false,
    "deletable": true,
    "editable": true
   },
   "outputs": [],
   "source": [
    "def create_opt_problem(X, y, sim='correl', rel='correl', verbose=False):\n",
    "    \"\"\"\n",
    "    % Function generates matrix Q and vector b\n",
    "    % which represent feature similarities and feature relevances\n",
    "    %\n",
    "    % Input:\n",
    "    % X - [m, n] - design matrix\n",
    "    % y - [m, k] - target vector\n",
    "    % sim - string - indicator of the way to compute feature similarities,\n",
    "    % supported values are 'correl' and 'mi'\n",
    "    % rel - string - indicator of the way to compute feature significance,\n",
    "    % supported values are 'correl', 'mi' and 'lin-reg'\n",
    "    % \n",
    "    % Defaults are 'correl'\n",
    "    %\n",
    "    % Output:\n",
    "    % Q - [n ,n] - matrix of features similarities\n",
    "    % b - [n, k] - vector of feature relevances\n",
    "    \"\"\"\n",
    "    X = np.array(X)\n",
    "    y = np.array(y)\n",
    "    \n",
    "    if verbose == True:\n",
    "        print(\"Constructing the problem...\")\n",
    "        print('Similarity measure: %s, feature relevance measure: %s' % (sim, rel))\n",
    "    \n",
    "    if len(y.shape) == 1:\n",
    "        y_mat = y[:, np.newaxis]\n",
    "    else:\n",
    "        y_mat = y[:]\n",
    "    \n",
    "    n = X.shape[0]\n",
    "    m = X.shape[1]\n",
    "    k = y_mat.shape[1]\n",
    "    together = np.hstack([X, y_mat]).T\n",
    "    \n",
    "    if (sim == 'correl' or rel == 'correl'):\n",
    "        cor = np.corrcoef(together)\n",
    "    \n",
    "    if sim == 'correl':\n",
    "        Q = cor[:-k, :-k]\n",
    "    elif rel == 'mi':\n",
    "        Q = np.zeros((m, m))\n",
    "        for i in range(m):\n",
    "            for j in range(i, m):\n",
    "                Q[i][j] = mutual_info_score(X[:, [i]].ravel(), X[:, [j]].ravel())\n",
    "                Q[j][i] = Q[i][j]\n",
    "    else:\n",
    "        print(\"Wrong similarity measure\")\n",
    "        return\n",
    "    \n",
    "    if rel == 'correl':\n",
    "        b = cor[:-k, -k:]\n",
    "    elif rel == 'mi':\n",
    "        b = np.zeros((m, k))\n",
    "        for i in range(m):\n",
    "            for j in range(k):\n",
    "                b[i][j] = mutual_info_score(X[:, [i]].ravel(), y_mat[:, [j]].ravel())\n",
    "        print(b.shape)\n",
    "    elif rel == 'lin-reg':\n",
    "        lr = LinearRegression()\n",
    "        b = np.zeros((m, k))\n",
    "        for i in range(m):\n",
    "            for j in range(k):\n",
    "                cur_y = y[:, [j]].ravel()\n",
    "                lr.fit(X[:, [i]], cur_y)\n",
    "                y_pred = lr.predict(X[:, [i]])\n",
    "                b[i][j] = np.corrcoef(y_pred, cur_y)[0, 1]\n",
    "        b = np.nan_to_num(b)\n",
    "        print(b.shape)\n",
    "    else:\n",
    "        print(\"Wrong relevance measure\")\n",
    "        return\n",
    "    \n",
    "    b = np.abs(b).mean(axis=1)\n",
    "    print()\n",
    "        \n",
    "    if verbose == True:\n",
    "        print(\"Problem has been constructed.\")\n",
    "    return Q, np.abs(b)\n",
    "\n",
    "\n",
    "def solve_opt_problem(Q, b, verbose=False):\n",
    "    \"\"\"\n",
    "     Function solves the quadratic optimization problem stated to select\n",
    "     significance and noncollinear features\n",
    "\n",
    "     Input:\n",
    "     Q - [n, n] - matrix of features similarities\n",
    "     b - [n, 1] - vector of feature relevances\n",
    "\n",
    "     Output:\n",
    "     x - [n, 1] - solution of the quadratic optimization problem\n",
    "    \"\"\"\n",
    "    \n",
    "    n = Q.shape[0]\n",
    "    x = cvx.Variable(n)\n",
    "    \n",
    "    objective = cvx.Minimize(cvx.quad_form(x, Q) - 1. * b.T * x)\n",
    "    constraints = [x >= 0, x <= 1]\n",
    "    prob = cvx.Problem(objective, constraints)\n",
    "    \n",
    "    if verbose == True:\n",
    "        print(\"Solving the QP problem...\")\n",
    "    \n",
    "    prob.solve()\n",
    "    \n",
    "    if verbose == True:\n",
    "        print(\"The problem has been solved!\")\n",
    "        print(\"Problem status:\", prob.status)\n",
    "        print\n",
    "\n",
    "    return np.array(x.value).flatten()\n",
    "    \n",
    "def quadratic_programming(X, y, sim='correl', rel='correl', verbose=False):\n",
    "    Q, b = create_opt_problem(X, y, sim, rel, verbose)\n",
    "    print\n",
    "    qp_score = solve_opt_problem(Q, b, verbose)\n",
    "    return qp_score"
   ]
  },
  {
   "cell_type": "code",
   "execution_count": 129,
   "metadata": {
    "collapsed": false,
    "deletable": true,
    "editable": true
   },
   "outputs": [
    {
     "name": "stdout",
     "output_type": "stream",
     "text": [
      "Constructing the problem...\n",
      "Similarity measure: mi, feature relevance measure: mi\n",
      "(10, 3)\n",
      "\n",
      "Problem has been constructed.\n",
      "Solving the QP problem...\n",
      "The problem has been solved!\n",
      "Problem status: optimal\n"
     ]
    }
   ],
   "source": [
    "z = quadratic_programming(X_train, y_train, sim='mi', rel='mi', verbose=True)"
   ]
  },
  {
   "cell_type": "code",
   "execution_count": 130,
   "metadata": {
    "collapsed": false,
    "deletable": true,
    "editable": true
   },
   "outputs": [
    {
     "name": "stdout",
     "output_type": "stream",
     "text": [
      "\n"
     ]
    }
   ],
   "source": [
    "Q, b = create_opt_problem(X_train, y_train[:, 1], 'correl', 'correl')"
   ]
  },
  {
   "cell_type": "code",
   "execution_count": 131,
   "metadata": {
    "collapsed": false,
    "deletable": true,
    "editable": true
   },
   "outputs": [
    {
     "data": {
      "text/plain": [
       "array([ 0.04999997,  0.04999997,  0.04999997,  0.04999997,  0.04999997,\n",
       "        0.04999997,  0.04999997,  0.04999997,  0.04999997,  0.04999997])"
      ]
     },
     "execution_count": 131,
     "metadata": {},
     "output_type": "execute_result"
    }
   ],
   "source": [
    "z"
   ]
  },
  {
   "cell_type": "markdown",
   "metadata": {
    "collapsed": true,
    "deletable": true,
    "editable": true
   },
   "source": [
    "## Testing\n"
   ]
  },
  {
   "cell_type": "code",
   "execution_count": null,
   "metadata": {
    "collapsed": true,
    "deletable": true,
    "editable": true
   },
   "outputs": [],
   "source": []
  }
 ],
 "metadata": {
  "kernelspec": {
   "display_name": "Python 3",
   "language": "python",
   "name": "python3"
  },
  "language_info": {
   "codemirror_mode": {
    "name": "ipython",
    "version": 3
   },
   "file_extension": ".py",
   "mimetype": "text/x-python",
   "name": "python",
   "nbconvert_exporter": "python",
   "pygments_lexer": "ipython3",
   "version": "3.5.3"
  }
 },
 "nbformat": 4,
 "nbformat_minor": 2
}
