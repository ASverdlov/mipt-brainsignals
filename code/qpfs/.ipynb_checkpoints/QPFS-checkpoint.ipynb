{
 "cells": [
  {
   "cell_type": "markdown",
   "metadata": {},
   "source": [
    "# Код Романа"
   ]
  },
  {
   "cell_type": "code",
   "execution_count": 397,
   "metadata": {},
   "outputs": [],
   "source": [
    "import numpy as np\n",
    "import sklearn.feature_selection as sklfs\n",
    "import scipy as sc\n",
    "import cvxpy as cvx\n",
    "\n",
    "np.random.seed(42)\n",
    "\n",
    "\n",
    "class QPFS:\n",
    "    def __init__(self, sim='corr'):\n",
    "        if sim not in ['corr', 'info', 'symuncert']:\n",
    "            raise ValueError('Similarity measure should be \"corr\" or \"info\"')\n",
    "        self.sim = sim\n",
    "    \n",
    "    def get_Qb(self, X, y, eps=1e-12):\n",
    "\n",
    "        n_features = X.shape[1]\n",
    "        self.Q = np.ones([n_features, n_features])\n",
    "        self.b = np.zeros([n_features, 1])\n",
    "        \n",
    "        if self.sim == 'corr':\n",
    "            y_mat = y[:, np.newaxis] if len(y.shape) == 1 else y[:]\n",
    "            idxs_nz = np.where(np.sum(X ** 2, axis = 0) != 0)[0]\n",
    "            corr = np.corrcoef(np.hstack([X[:, idxs_nz], y_mat]).T)\n",
    "            for i, idx in enumerate(idxs_nz):\n",
    "                self.Q[idx, idxs_nz] = np.abs(corr[i, :-1])\n",
    "            self.b[idxs_nz] = np.abs(corr[:-1, [-1]])\n",
    "        elif self.sim == 'info':\n",
    "            for j in range(n_features):\n",
    "                self.Q[:, j] = sklfs.mutual_info_regression(X, X[:, j])\n",
    "            self.b = sklfs.mutual_info_regression(X, y)[:, np.newaxis]\n",
    "        elif self.sim == 'symuncert':\n",
    "            X_ent = np.zeros([n_features + 1])\n",
    "            for j in range(n_features):\n",
    "                X_ent[j] = sklfs.mutual_info_regression(X[:, [j]], X[:, j])\n",
    "            X_ent[j + 1] = sklfs.mutual_info_regression(y[:, np.newaxis], y)\n",
    "            for j in range(n_features):\n",
    "                self.Q[:, j] = sklfs.mutual_info_regression(X, X[:, j], n_neighbors=5) * 2 / (X_ent[:-1] + X_ent[j])\n",
    "            self.b = sklfs.mutual_info_regression(X, y, n_neighbors=5) * 2 / X_ent[-1] / X_ent[:-1]\n",
    "            self.b = self.b[:, np.newaxis]\n",
    "        self.Q = np.nan_to_num(self.Q)\n",
    "        self.b = np.nan_to_num(self.b)\n",
    "        \n",
    "        self.lamb_min = sc.linalg.eigh(self.Q)[0][0]\n",
    "        if self.lamb_min < 0:\n",
    "            self.Q = self.Q - (self.lamb_min - eps) * np.eye(*self.Q.shape)\n",
    "    \n",
    "    def get_alpha(self, kind=0, **kwargs):\n",
    "        if kind == 0:\n",
    "            return 2 * self.Q.mean() / self.b.mean()\n",
    "        elif kind == 1:\n",
    "            return self.Q.mean() * len(self.b) * kwargs['k'] / self.b.mean()\n",
    "        else:\n",
    "            return 2 * kwargs['k'] * self.Q.sum() / self.b.sum()\n",
    "\n",
    "    def fit(self, X, y, alpha=None):\n",
    "        self.get_Qb(X, y)\n",
    "        print(self.Q)\n",
    "        print(self.b)\n",
    "        self.alpha = alpha if alpha else self.get_alpha(kind=0)\n",
    "        self.solve_problem()\n",
    "    \n",
    "    def solve_problem(self):\n",
    "        n = self.Q.shape[0]\n",
    "        x = cvx.Variable(n)\n",
    "        objective = cvx.Minimize(cvx.quad_form(x, self.Q) - self.alpha * self.b.T * x)\n",
    "        constraints = [x >= 0, x <= 1]\n",
    "        prob = cvx.Problem(objective, constraints)\n",
    "\n",
    "        prob.solve()\n",
    "\n",
    "        self.status = prob.status\n",
    "        self.score = np.array(x.value).flatten()\n",
    "        \n",
    "   # def __repr__(self):\n",
    "        #return f'QPFS(sim=\"{self.sim}\")'\n",
    "\n",
    "\n",
    "\n",
    "    "
   ]
  },
  {
   "cell_type": "code",
   "execution_count": 2,
   "metadata": {},
   "outputs": [],
   "source": [
    "import numpy as np\n",
    "import scipy\n",
    "import scipy.stats as sps\n",
    "import matplotlib.pyplot as plt\n",
    "%matplotlib inline\n",
    "import scipy as sc\n",
    "from IPython import display\n",
    "import pandas as pd\n",
    "import cvxpy as cvx\n",
    "import cvxopt \n",
    "import sklearn.feature_selection as fs\n",
    "from sklearn.model_selection import train_test_split\n",
    "from sklearn.linear_model import LinearRegression\n",
    "from sklearn.metrics import mutual_info_score\n",
    "\n",
    "%config InlineBackend.figure_format = 'retina'"
   ]
  },
  {
   "cell_type": "code",
   "execution_count": 259,
   "metadata": {},
   "outputs": [],
   "source": [
    "%run numpy_nn.py"
   ]
  },
  {
   "cell_type": "markdown",
   "metadata": {},
   "source": [
    "### Data"
   ]
  },
  {
   "cell_type": "code",
   "execution_count": 4,
   "metadata": {
    "collapsed": true
   },
   "outputs": [],
   "source": [
    "def generate_collinear_features(n, X):\n",
    "    '''This is taken from Roman. Makes features correlated'''\n",
    "    n_features = X.shape[1]\n",
    "    X_new = np.zeros([X.shape[0], n])\n",
    "    for i in range(n):\n",
    "        n_cols = max(2, np.random.randint(n_features / 3) + 1)\n",
    "        col_idxs = np.random.choice(np.arange(n_features), int(n_cols), replace=False)\n",
    "        coef = np.random.rand(n_cols)\n",
    "        coef /= np.sqrt(np.sum(coef ** 2))\n",
    "        X_new[:, i] = X[:, col_idxs].dot(coef) \n",
    "    return X_new"
   ]
  },
  {
   "cell_type": "code",
   "execution_count": 5,
   "metadata": {},
   "outputs": [],
   "source": [
    "def generate_y(X, coeffs = None):\n",
    "    '''Generates y'''\n",
    "    \n",
    "    if coeffs is None:\n",
    "        coeffs = sps.expon.rvs(size=(X.shape[1], 3)) # some_matrix just for testing\n",
    "    ans = X @ coeffs\n",
    "    error = sps.norm.rvs(scale=0.5, size=ans.shape)\n",
    "    y = ans + error\n",
    "    return y\n",
    "    \n",
    "    "
   ]
  },
  {
   "cell_type": "code",
   "execution_count": 6,
   "metadata": {},
   "outputs": [],
   "source": [
    "def generate_correlated_data(n_samples, n_features, p=0.5, draw=True, coeffs=None):\n",
    "    '''Generates correlated data'''\n",
    "    start_n_features = int(p * n_features)\n",
    "    X = sps.norm.rvs(size=(n_samples, start_n_features))\n",
    "    X_col = generate_collinear_features(n_features - start_n_features, X)\n",
    "    X = np.hstack([X, X_col])\n",
    "    if draw:\n",
    "        plt.figure(figsize=(6, 5))\n",
    "        plt.imshow(np.corrcoef(X.T))\n",
    "        plt.xticks((0, 5, 10, 15), fontsize=16)\n",
    "        plt.yticks((0, 5, 10, 15), fontsize=16)\n",
    "        cbar = plt.colorbar()\n",
    "        cbar.ax.tick_params(labelsize=16) \n",
    "        plt.tight_layout()\n",
    "        plt.show()\n",
    "    y = generate_y(X, coeffs) # here can be something else\n",
    "    return X, y"
   ]
  },
  {
   "cell_type": "markdown",
   "metadata": {
    "collapsed": true
   },
   "source": [
    "### Synthetic data"
   ]
  },
  {
   "cell_type": "code",
   "execution_count": 7,
   "metadata": {
    "collapsed": true
   },
   "outputs": [],
   "source": [
    "def get_test_train(X, y):\n",
    "    X_train, X_test, y_train, y_test = train_test_split(X, y, test_size=0.33, random_state=179)\n",
    "    return X_train, X_test, y_train, y_test"
   ]
  },
  {
   "cell_type": "code",
   "execution_count": 8,
   "metadata": {},
   "outputs": [
    {
     "data": {
      "image/png": "[encoded data removed]",
      "text/plain": [
       "<matplotlib.figure.Figure at 0x7f05511859b0>"
      ]
     },
     "metadata": {
      "image/png": {
       "height": 352,
       "width": 415
      }
     },
     "output_type": "display_data"
    },
    {
     "name": "stdout",
     "output_type": "stream",
     "text": [
      "(50, 3)\n",
      "(33, 3)\n"
     ]
    }
   ],
   "source": [
    "X, y = generate_correlated_data(50, 10)\n",
    "print(y.shape)\n",
    "X_train, X_test, y_train, y_test = get_test_train(X, y)\n",
    "print(y_train.shape)"
   ]
  },
  {
   "cell_type": "markdown",
   "metadata": {},
   "source": [
    "### Quadratic programming"
   ]
  },
  {
   "cell_type": "code",
   "execution_count": 70,
   "metadata": {},
   "outputs": [],
   "source": [
    "class QPFS:\n",
    "    def __init__(self, sim='correl', rel = None):\n",
    "        if sim not in ['correl', 'mi']:\n",
    "            raise ValueError('Similarity measure should be \"corr\" or \"mi\"')\n",
    "        if rel is None:\n",
    "            rel = sim\n",
    "        if rel not in ['correl', 'mi']:\n",
    "            raise ValueError('Relativity measure should be \"corr\" or \"mi\"')\n",
    "        self.sim = sim\n",
    "        self.rel = rel\n",
    "        self.eps = 1e-12\n",
    "        \n",
    "    def __create_opt_problem(self, X, y, sim='correl', rel='correl', verbose=False):\n",
    "        \"\"\"\n",
    "        % Function generates matrix Q and vector b\n",
    "        % which represent feature similarities and feature relevances\n",
    "        %\n",
    "        % Input:\n",
    "        % X - [m, n] - design matrix\n",
    "        % y - [m, k] - target vector\n",
    "        % sim - string - indicator of the way to compute feature similarities,\n",
    "        % supported values are 'correl' and 'mi'\n",
    "        % rel - string - indicator of the way to compute feature significance,\n",
    "        % supported values are 'correl', 'mi'\n",
    "        % \n",
    "        % Defaults are 'correl'\n",
    "        %\n",
    "        % Output:\n",
    "        % Q - [n ,n] - matrix of features similarities\n",
    "        % b - [n, k] - vector of feature relevances\n",
    "        \"\"\"\n",
    "        X = np.array(X, dtype=np.float)\n",
    "        y = np.array(y, dtype=np.float)\n",
    "\n",
    "        \n",
    "\n",
    "        if verbose == True:\n",
    "            print(\"Constructing the problem...\")\n",
    "            print('Similarity measure: %s, feature relevance measure: %s' % (sim, rel))\n",
    "\n",
    "        if len(y.shape) == 1:\n",
    "            y_mat = y[:, np.newaxis]\n",
    "        else:\n",
    "            y_mat = y[:]\n",
    "\n",
    "        n = X.shape[0]\n",
    "        m = X.shape[1]\n",
    "        k = y_mat.shape[1]\n",
    "\n",
    "        if (self.sim == 'correl' or self.rel == 'correl'):\n",
    "            together = np.hstack([X, y_mat]).T\n",
    "            cor = np.corrcoef(together)\n",
    "            #idxs_nz = np.where(np.sum(together ** 2, axis = 1) != 0)[0]\n",
    "            #corr = np.corrcoef(together[:, idxs_nz])\n",
    "            #cor = np.zeros((m + k, m + k))\n",
    "            #print(idxs_nz, corr.shape)\n",
    "            #for i, idx in enumerate(idxs_nz):\n",
    "                #print(idxs_nz, np.hstack([X, y_mat]).T.shape, corr.shape, cor[idx, idxs_nz].shape, corr[i, :].shape)\n",
    "                #cor[idx, idxs_nz] = corr[i, :]\n",
    "                #cor[idx, -k:] = corr[i, -k:]\n",
    "\n",
    "        #print(self.sim, self.rel)\n",
    "        if self.sim == 'correl':\n",
    "            Q = cor[:-k, :-k]\n",
    "        elif self.rel == 'mi':\n",
    "            Q = np.zeros((m, m))\n",
    "            for i in range(m):\n",
    "                for j in range(i, m):\n",
    "                    Q[i][j] = fs.mutual_info_regression(X[:, i].reshape(-1, 1), X[:, j])\n",
    "                    Q[j][i] = Q[i][j]\n",
    "        else:\n",
    "            print(\"Wrong similarity measure\")\n",
    "            return\n",
    "\n",
    "        if self.rel == 'correl':\n",
    "            b = cor[:-k, -k:]\n",
    "        elif self.rel == 'mi':\n",
    "            b = np.zeros((m, k))\n",
    "            for i in range(m):\n",
    "                for j in range(k):\n",
    "                    b[i][j] = fs.mutual_info_regression(X[:, i].reshape(-1, 1), y_mat[:, j])\n",
    "        else:\n",
    "            print(\"Wrong relevance measure\")\n",
    "            return\n",
    "\n",
    "        Q = np.nan_to_num(Q)\n",
    "        b = np.nan_to_num(b)\n",
    "        Q = np.abs(Q)\n",
    "        b = np.abs(b).mean(axis=1)\n",
    "\n",
    "        min_eig = scipy.linalg.eigh(Q)[0][0]\n",
    "        if min_eig < 0:\n",
    "            Q = Q - (min_eig - self.eps) * np.eye(*Q.shape)\n",
    "        \n",
    "        self.Q = Q\n",
    "        self.b = b\n",
    "        print()\n",
    "\n",
    "        if verbose == True:\n",
    "            print(\"Problem has been constructed.\")\n",
    "        return self.Q, self.b\n",
    "\n",
    "\n",
    "    def __solve_opt_problem(self, verbose=False):\n",
    "        \"\"\"\n",
    "         Function solves the quadratic optimization problem stated to select\n",
    "         significance and noncollinear features\n",
    "\n",
    "         Input:\n",
    "         Q - [n, n] - matrix of features similarities\n",
    "         b - [n, 1] - vector of feature relevances\n",
    "\n",
    "         Output:\n",
    "         x - [n, 1] - solution of the quadratic optimization problem\n",
    "        \"\"\"\n",
    "        Q = self.Q\n",
    "        b = self.b\n",
    "        \n",
    "        n = Q.shape[0]\n",
    "        x = cvx.Variable(n)\n",
    "\n",
    "        objective = cvx.Minimize(cvx.quad_form(x, Q) - 1. * b.T * x)\n",
    "        constraints = [x >= 0, x <= 1]\n",
    "        prob = cvx.Problem(objective, constraints)\n",
    "\n",
    "        if verbose == True:\n",
    "            print(\"Solving the QP problem...\")\n",
    "\n",
    "        prob.solve()\n",
    "\n",
    "        if verbose == True:\n",
    "            print(\"The problem has been solved!\")\n",
    "            print(\"Problem status:\", prob.status)\n",
    "            print\n",
    "\n",
    "        return np.array(x.value).flatten()\n",
    "    \n",
    "    def fit(self, X, y, verbose=False):\n",
    "        return self.__create_opt_problem(X, y, verbose)\n",
    "    \n",
    "    def get_score(self, X, y, verbose=False):\n",
    "        self.__create_opt_problem(X, y, verbose)\n",
    "        print\n",
    "        qp_score = self.__solve_opt_problem(verbose)\n",
    "        return qp_score"
   ]
  },
  {
   "cell_type": "code",
   "execution_count": 19,
   "metadata": {},
   "outputs": [],
   "source": [
    "def create_opt_problem(X, y, sim='correl', rel='correl', verbose=False):\n",
    "    \"\"\"\n",
    "    % Function generates matrix Q and vector b\n",
    "    % which represent feature similarities and feature relevances\n",
    "    %\n",
    "    % Input:\n",
    "    % X - [m, n] - design matrix\n",
    "    % y - [m, k] - target vector\n",
    "    % sim - string - indicator of the way to compute feature similarities,\n",
    "    % supported values are 'correl' and 'mi'\n",
    "    % rel - string - indicator of the way to compute feature significance,\n",
    "    % supported values are 'correl', 'mi'\n",
    "    % \n",
    "    % Defaults are 'correl'\n",
    "    %\n",
    "    % Output:\n",
    "    % Q - [n ,n] - matrix of features similarities\n",
    "    % b - [n, k] - vector of feature relevances\n",
    "    \"\"\"\n",
    "    X = np.array(X, dtype=np.float)\n",
    "    y = np.array(y, dtype=np.float)\n",
    "    \n",
    "    eps = 1e-12\n",
    "    \n",
    "    if verbose == True:\n",
    "        print(\"Constructing the problem...\")\n",
    "        print('Similarity measure: %s, feature relevance measure: %s' % (sim, rel))\n",
    "    \n",
    "    if len(y.shape) == 1:\n",
    "        y_mat = y[:, np.newaxis]\n",
    "    else:\n",
    "        y_mat = y[:]\n",
    "    \n",
    "    n = X.shape[0]\n",
    "    m = X.shape[1]\n",
    "    k = y_mat.shape[1]\n",
    "    \n",
    "    if (sim == 'correl' or rel == 'correl'):\n",
    "        together = np.hstack([X, y_mat]).T\n",
    "        cor = np.corrcoef(together)\n",
    "        #idxs_nz = np.where(np.sum(together ** 2, axis = 1) != 0)[0]\n",
    "        #corr = np.corrcoef(together[:, idxs_nz])\n",
    "        #cor = np.zeros((m + k, m + k))\n",
    "        #print(idxs_nz, corr.shape)\n",
    "        #for i, idx in enumerate(idxs_nz):\n",
    "            #print(idxs_nz, np.hstack([X, y_mat]).T.shape, corr.shape, cor[idx, idxs_nz].shape, corr[i, :].shape)\n",
    "            #cor[idx, idxs_nz] = corr[i, :]\n",
    "            #cor[idx, -k:] = corr[i, -k:]\n",
    "        \n",
    "    \n",
    "    if sim == 'correl':\n",
    "        Q = cor[:-k, :-k]\n",
    "    elif rel == 'mi':\n",
    "        Q = np.zeros((m, m))\n",
    "        for i in range(m):\n",
    "            for j in range(i, m):\n",
    "                Q[i][j] = fs.mutual_info_regression(X[:, i].reshape(-1, 1), X[:, j])\n",
    "                Q[j][i] = Q[i][j]\n",
    "    else:\n",
    "        print(\"Wrong similarity measure\")\n",
    "        return\n",
    "    \n",
    "    if rel == 'correl':\n",
    "        b = cor[:-k, -k:]\n",
    "    elif rel == 'mi':\n",
    "        b = np.zeros((m, k))\n",
    "        for i in range(m):\n",
    "            for j in range(k):\n",
    "                b[i][j] = fs.mutual_info_regression(X[:, i].reshape(-1, 1), y_mat[:, j])\n",
    "    else:\n",
    "        print(\"Wrong relevance measure\")\n",
    "        return\n",
    "    \n",
    "    Q = np.nan_to_num(Q)\n",
    "    b = np.nan_to_num(b)\n",
    "    Q = np.abs(Q)\n",
    "    b = np.abs(b).mean(axis=1)\n",
    "    \n",
    "    min_eig = scipy.linalg.eigh(Q)[0][0]\n",
    "    if min_eig < 0:\n",
    "        Q = Q - (min_eig - self.eps) * np.eye(*Q.shape)\n",
    "            \n",
    "    print()\n",
    "        \n",
    "    if verbose == True:\n",
    "        print(\"Problem has been constructed.\")\n",
    "    return Q, np.abs(b)\n",
    "\n",
    "\n",
    "def solve_opt_problem(Q, b, verbose=False):\n",
    "    \"\"\"\n",
    "     Function solves the quadratic optimization problem stated to select\n",
    "     significance and noncollinear features\n",
    "\n",
    "     Input:\n",
    "     Q - [n, n] - matrix of features similarities\n",
    "     b - [n, 1] - vector of feature relevances\n",
    "\n",
    "     Output:\n",
    "     x - [n, 1] - solution of the quadratic optimization problem\n",
    "    \"\"\"\n",
    "    \n",
    "    n = Q.shape[0]\n",
    "    x = cvx.Variable(n)\n",
    "    \n",
    "    objective = cvx.Minimize(cvx.quad_form(x, Q) - 1. * b.T * x)\n",
    "    constraints = [x >= 0, x <= 1]\n",
    "    prob = cvx.Problem(objective, constraints)\n",
    "    \n",
    "    if verbose == True:\n",
    "        print(\"Solving the QP problem...\")\n",
    "    \n",
    "    prob.solve()\n",
    "    \n",
    "    if verbose == True:\n",
    "        print(\"The problem has been solved!\")\n",
    "        print(\"Problem status:\", prob.status)\n",
    "        print\n",
    "\n",
    "    return np.array(x.value).flatten()\n",
    "    \n",
    "def quadratic_programming(X, y, sim='correl', rel='correl', verbose=False):\n",
    "    Q, b = create_opt_problem(X, y, sim, rel, verbose)\n",
    "    print\n",
    "    qp_score = solve_opt_problem(Q, b, verbose)\n",
    "    return qp_score"
   ]
  },
  {
   "cell_type": "code",
   "execution_count": 619,
   "metadata": {
    "collapsed": true
   },
   "outputs": [],
   "source": [
    "def select_features(X, y, sim='correl', rel = 'correl', threshold=0.1, cnt=None):\n",
    "    w = quadratic_programming(X, y, sim, rel)\n",
    "    if cnt is not None:\n",
    "        best = np.sort(w)[cnt-1]\n",
    "        threshold = best\n",
    "        \n",
    "    ns = np.arange(X.shape[1])\n",
    "    where = np.where(w > threshold)\n",
    "    return ns[where]"
   ]
  },
  {
   "cell_type": "code",
   "execution_count": 26,
   "metadata": {},
   "outputs": [
    {
     "name": "stdout",
     "output_type": "stream",
     "text": [
      "\n",
      "Solving the QP problem...\n",
      "The problem has been solved!\n",
      "Problem status: optimal\n"
     ]
    }
   ],
   "source": [
    "q = QPFS()\n",
    "z = q.get_score(X_train, y_train, True)"
   ]
  },
  {
   "cell_type": "code",
   "execution_count": 27,
   "metadata": {},
   "outputs": [
    {
     "data": {
      "text/plain": [
       "(33, 3)"
      ]
     },
     "execution_count": 27,
     "metadata": {},
     "output_type": "execute_result"
    }
   ],
   "source": [
    "y_train.shape"
   ]
  },
  {
   "cell_type": "code",
   "execution_count": 33,
   "metadata": {},
   "outputs": [
    {
     "name": "stdout",
     "output_type": "stream",
     "text": [
      "\n"
     ]
    }
   ],
   "source": [
    "Q, b = q.fit(X_train, y_train)"
   ]
  },
  {
   "cell_type": "code",
   "execution_count": 34,
   "metadata": {},
   "outputs": [
    {
     "data": {
      "text/plain": [
       "array([  1.85747583e-11,   1.42904784e-10,   8.03031148e-10,\n",
       "         1.01535097e-01,   7.17373044e-02,   1.95624678e-01,\n",
       "         6.30463543e-02,   2.39600748e-11,   1.32362087e-01,\n",
       "         1.29868537e-01])"
      ]
     },
     "execution_count": 34,
     "metadata": {},
     "output_type": "execute_result"
    }
   ],
   "source": [
    "z"
   ]
  },
  {
   "cell_type": "markdown",
   "metadata": {
    "collapsed": true
   },
   "source": [
    "## Testing\n"
   ]
  },
  {
   "cell_type": "markdown",
   "metadata": {},
   "source": [
    "# Некоррелированные признаки с возрастающими коэффициентами"
   ]
  },
  {
   "cell_type": "code",
   "execution_count": 58,
   "metadata": {},
   "outputs": [
    {
     "name": "stdout",
     "output_type": "stream",
     "text": [
      "(4,)\n"
     ]
    },
    {
     "data": {
      "image/png": "[encoded data removed]",
      "text/plain": [
       "<matplotlib.figure.Figure at 0x7f0548c66be0>"
      ]
     },
     "metadata": {
      "image/png": {
       "height": 352,
       "width": 415
      }
     },
     "output_type": "display_data"
    }
   ],
   "source": [
    "coeffs = np.arange(4)+1#np.array([np.arange(30) + 1 for i in range(3)]).T\n",
    "#coeffs[0] = 100\n",
    "print(coeffs.shape)\n",
    "X, y = generate_correlated_data(1000, 4, p=1, coeffs=coeffs)"
   ]
  },
  {
   "cell_type": "code",
   "execution_count": 71,
   "metadata": {
    "collapsed": true
   },
   "outputs": [],
   "source": [
    "q1 = QPFS()\n",
    "q2 = QPFS(sim='mi', rel='mi')"
   ]
  },
  {
   "cell_type": "code",
   "execution_count": 72,
   "metadata": {},
   "outputs": [
    {
     "name": "stdout",
     "output_type": "stream",
     "text": [
      "\n"
     ]
    }
   ],
   "source": [
    "Q, b = q1.fit(X, y)"
   ]
  },
  {
   "cell_type": "code",
   "execution_count": 73,
   "metadata": {},
   "outputs": [
    {
     "data": {
      "text/plain": [
       "array([[  1.00000000e+00,   2.99091603e-02,   9.26586348e-03,\n",
       "          2.54208962e-02],\n",
       "       [  2.99091603e-02,   1.00000000e+00,   4.40977047e-04,\n",
       "          1.77377064e-02],\n",
       "       [  9.26586348e-03,   4.40977047e-04,   1.00000000e+00,\n",
       "          5.28209769e-02],\n",
       "       [  2.54208962e-02,   1.77377064e-02,   5.28209769e-02,\n",
       "          1.00000000e+00]])"
      ]
     },
     "execution_count": 73,
     "metadata": {},
     "output_type": "execute_result"
    }
   ],
   "source": [
    "Q"
   ]
  },
  {
   "cell_type": "markdown",
   "metadata": {},
   "source": [
    "Матрица должны быть почти единичной. Похоже."
   ]
  },
  {
   "cell_type": "code",
   "execution_count": 74,
   "metadata": {},
   "outputs": [
    {
     "data": {
      "text/plain": [
       "array([ 0.20908316,  0.3796746 ,  0.52686685,  0.7098577 ])"
      ]
     },
     "execution_count": 74,
     "metadata": {},
     "output_type": "execute_result"
    }
   ],
   "source": [
    "b"
   ]
  },
  {
   "cell_type": "markdown",
   "metadata": {},
   "source": [
    "Корреляция должна возрастать с ростом номера фичи, потому что коэффициент при большем номере больше. Верно."
   ]
  },
  {
   "cell_type": "code",
   "execution_count": null,
   "metadata": {
    "collapsed": true
   },
   "outputs": [],
   "source": []
  },
  {
   "cell_type": "code",
   "execution_count": 75,
   "metadata": {},
   "outputs": [
    {
     "name": "stdout",
     "output_type": "stream",
     "text": [
      "\n"
     ]
    }
   ],
   "source": [
    "Q, b = q2.fit(X, y)"
   ]
  },
  {
   "cell_type": "code",
   "execution_count": 76,
   "metadata": {},
   "outputs": [
    {
     "data": {
      "text/plain": [
       "array([[ 5.65113753,  0.        ,  0.00621236,  0.        ],\n",
       "       [ 0.        ,  5.65113753,  0.02455535,  0.01693997],\n",
       "       [ 0.00621236,  0.02455535,  5.65113753,  0.03547134],\n",
       "       [ 0.        ,  0.01693997,  0.03547134,  5.65113753]])"
      ]
     },
     "execution_count": 76,
     "metadata": {},
     "output_type": "execute_result"
    }
   ],
   "source": [
    "Q"
   ]
  },
  {
   "cell_type": "code",
   "execution_count": 77,
   "metadata": {},
   "outputs": [
    {
     "data": {
      "text/plain": [
       "array([ 0.05101491,  0.12019735,  0.17437015,  0.34061455])"
      ]
     },
     "execution_count": 77,
     "metadata": {},
     "output_type": "execute_result"
    }
   ],
   "source": [
    "b"
   ]
  },
  {
   "cell_type": "markdown",
   "metadata": {},
   "source": [
    "Здесь прослеживаются те же закономерности"
   ]
  },
  {
   "cell_type": "code",
   "execution_count": 78,
   "metadata": {},
   "outputs": [
    {
     "name": "stdout",
     "output_type": "stream",
     "text": [
      "Constructing the problem...\n",
      "Similarity measure: correl, feature relevance measure: correl\n",
      "\n",
      "Problem has been constructed.\n",
      "Solving the QP problem...\n",
      "The problem has been solved!\n",
      "Problem status: optimal\n"
     ]
    },
    {
     "data": {
      "text/plain": [
       "array([ 0.08829951,  0.1811188 ,  0.24475909,  0.33654373])"
      ]
     },
     "execution_count": 78,
     "metadata": {},
     "output_type": "execute_result"
    }
   ],
   "source": [
    "w = quadratic_programming(X, y, verbose=True)\n",
    "w"
   ]
  },
  {
   "cell_type": "code",
   "execution_count": 79,
   "metadata": {
    "scrolled": true
   },
   "outputs": [
    {
     "name": "stdout",
     "output_type": "stream",
     "text": [
      "Constructing the problem...\n",
      "Similarity measure: mi, feature relevance measure: mi\n",
      "\n",
      "Problem has been constructed.\n",
      "Solving the QP problem...\n",
      "The problem has been solved!\n",
      "Problem status: optimal\n"
     ]
    },
    {
     "data": {
      "text/plain": [
       "array([  8.80182901e-08,   4.19276607e-09,   2.81688547e-02,\n",
       "         1.64988277e-02,   2.67018537e-02,   1.08228050e-01,\n",
       "         6.96875104e-02,   1.37607362e-08,   3.93186915e-02,\n",
       "         1.20845259e-02])"
      ]
     },
     "execution_count": 79,
     "metadata": {},
     "output_type": "execute_result"
    }
   ],
   "source": [
    "w = quadratic_programming(X_train, y_train, sim='mi', rel='mi', verbose=True)\n",
    "w"
   ]
  },
  {
   "cell_type": "markdown",
   "metadata": {},
   "source": [
    "Согласуется с предположением"
   ]
  },
  {
   "cell_type": "markdown",
   "metadata": {},
   "source": [
    "# Ортогональные признаки"
   ]
  },
  {
   "cell_type": "code",
   "execution_count": 80,
   "metadata": {},
   "outputs": [
    {
     "data": {
      "text/plain": [
       "135"
      ]
     },
     "execution_count": 80,
     "metadata": {},
     "output_type": "execute_result"
    }
   ],
   "source": [
    "one = np.array([1, 5, 3, 5, -7])\n",
    "two = np.array([-5, 1, -5, 30, 0])\n",
    "y = one * 5 \n",
    "(one*two).sum()"
   ]
  },
  {
   "cell_type": "code",
   "execution_count": 81,
   "metadata": {
    "collapsed": true
   },
   "outputs": [],
   "source": [
    "X = np.array([one, two]).T\n"
   ]
  },
  {
   "cell_type": "code",
   "execution_count": 83,
   "metadata": {},
   "outputs": [
    {
     "name": "stdout",
     "output_type": "stream",
     "text": [
      "\n"
     ]
    },
    {
     "data": {
      "text/plain": [
       "array([  5.00004710e-01,   1.31106988e-05])"
      ]
     },
     "execution_count": 83,
     "metadata": {},
     "output_type": "execute_result"
    }
   ],
   "source": [
    "ans = q1.get_score(X, y)\n",
    "ans"
   ]
  },
  {
   "cell_type": "code",
   "execution_count": 85,
   "metadata": {},
   "outputs": [
    {
     "name": "stdout",
     "output_type": "stream",
     "text": [
      "\n"
     ]
    },
    {
     "data": {
      "text/plain": [
       "array([  5.00000017e-01,   2.59698557e-05])"
      ]
     },
     "execution_count": 85,
     "metadata": {},
     "output_type": "execute_result"
    }
   ],
   "source": [
    "ans = q2.get_score(X, y)\n",
    "ans"
   ]
  },
  {
   "cell_type": "markdown",
   "metadata": {},
   "source": [
    "Похоже на правду"
   ]
  },
  {
   "cell_type": "markdown",
   "metadata": {
    "collapsed": true
   },
   "source": [
    "# Сильно коррелированные признаки и примерно ортогональный вектор"
   ]
  },
  {
   "cell_type": "code",
   "execution_count": 86,
   "metadata": {},
   "outputs": [
    {
     "data": {
      "text/plain": [
       "135"
      ]
     },
     "execution_count": 86,
     "metadata": {},
     "output_type": "execute_result"
    }
   ],
   "source": [
    "one = np.array([1, 5, 3, 5, -7])\n",
    "two = np.array([-5, 1, -5, 30, 0])\n",
    "three = one * 1.2 + two * 2.5\n",
    "y = np.ones(5)\n",
    "(one*two).sum()"
   ]
  },
  {
   "cell_type": "code",
   "execution_count": 87,
   "metadata": {
    "collapsed": true
   },
   "outputs": [],
   "source": [
    "X = np.array([one, two, three]).T"
   ]
  },
  {
   "cell_type": "code",
   "execution_count": 90,
   "metadata": {},
   "outputs": [
    {
     "name": "stdout",
     "output_type": "stream",
     "text": [
      "\n",
      "(array([[ 1.        ,  0.36095496,  0.48964659],\n",
      "       [ 0.36095496,  1.        ,  0.98987928],\n",
      "       [ 0.48964659,  0.98987928,  1.        ]]), array([ 0.,  0.,  0.]))\n"
     ]
    },
    {
     "name": "stderr",
     "output_type": "stream",
     "text": [
      "/usr/local/lib/python3.5/dist-packages/numpy/lib/function_base.py:3003: RuntimeWarning: invalid value encountered in true_divide\n",
      "  c /= stddev[:, None]\n",
      "/usr/local/lib/python3.5/dist-packages/numpy/lib/function_base.py:3004: RuntimeWarning: invalid value encountered in true_divide\n",
      "  c /= stddev[None, :]\n"
     ]
    }
   ],
   "source": [
    "print(q1.fit(X, y))"
   ]
  },
  {
   "cell_type": "code",
   "execution_count": 92,
   "metadata": {},
   "outputs": [
    {
     "name": "stdout",
     "output_type": "stream",
     "text": [
      "\n"
     ]
    },
    {
     "name": "stderr",
     "output_type": "stream",
     "text": [
      "/usr/local/lib/python3.5/dist-packages/numpy/lib/function_base.py:3003: RuntimeWarning: invalid value encountered in true_divide\n",
      "  c /= stddev[:, None]\n",
      "/usr/local/lib/python3.5/dist-packages/numpy/lib/function_base.py:3004: RuntimeWarning: invalid value encountered in true_divide\n",
      "  c /= stddev[None, :]\n"
     ]
    },
    {
     "data": {
      "text/plain": [
       "array([  8.27313603e-06,   7.02236597e-06,   6.59908333e-06])"
      ]
     },
     "execution_count": 92,
     "metadata": {},
     "output_type": "execute_result"
    }
   ],
   "source": [
    "ans = q1.get_score(X, y)\n",
    "ans"
   ]
  },
  {
   "cell_type": "code",
   "execution_count": 93,
   "metadata": {},
   "outputs": [
    {
     "name": "stdout",
     "output_type": "stream",
     "text": [
      "\n"
     ]
    },
    {
     "data": {
      "text/plain": [
       "array([  1.31690810e-05,   2.34087958e-05,   2.01761895e-05])"
      ]
     },
     "execution_count": 93,
     "metadata": {},
     "output_type": "execute_result"
    }
   ],
   "source": [
    "ans = quadratic_programming(X, y, sim='mi', rel='mi')\n",
    "ans"
   ]
  },
  {
   "cell_type": "markdown",
   "metadata": {},
   "source": [
    "Логично"
   ]
  },
  {
   "cell_type": "code",
   "execution_count": null,
   "metadata": {
    "collapsed": true
   },
   "outputs": [],
   "source": []
  }
 ],
 "metadata": {
  "kernelspec": {
   "display_name": "Python 3",
   "language": "python",
   "name": "python3"
  },
  "language_info": {
   "codemirror_mode": {
    "name": "ipython",
    "version": 3
   },
   "file_extension": ".py",
   "mimetype": "text/x-python",
   "name": "python",
   "nbconvert_exporter": "python",
   "pygments_lexer": "ipython3",
   "version": "3.6.3"
  }
 },
 "nbformat": 4,
 "nbformat_minor": 2
}
